{
 "cells": [
  {
   "cell_type": "markdown",
   "id": "60b546f2",
   "metadata": {},
   "source": [
    "[Project Solution 1](https://www.kaggle.com/code/rodrigoleyva2/google-data-analytics-cyclistic-capstone-project/notebook)\n",
    "\n",
    "[Project Solution 2](https://www.kaggle.com/code/chingheichau/google-data-analytics-capstone-project-1/notebook)\n",
    "\n",
    "[Project Solution 3](https://www.kaggle.com/code/jhelisonuchoa/google-data-analytics-capstone-case-study-1) - Required Solution\n",
    "\n",
    "\n",
    "[Customizing Matplotlib with style sheets and rcParams](https://matplotlib.org/stable/tutorials/introductory/customizing.html)\n",
    "\n",
    "[FiveThirtyEight style sheet](https://matplotlib.org/stable/gallery/style_sheets/fivethirtyeight.html#fivethirtyeight-style-sheet)"
   ]
  },
  {
   "cell_type": "code",
   "execution_count": 1,
   "id": "db71d68d",
   "metadata": {},
   "outputs": [],
   "source": [
    "import pandas as pd\n",
    "import matplotlib.pyplot as mp\n",
    "import numpy as np\n",
    "\n",
    "import os\n",
    "\n",
    "%matplotlib inline"
   ]
  },
  {
   "cell_type": "code",
   "execution_count": 2,
   "id": "5383ef6a",
   "metadata": {},
   "outputs": [
    {
     "name": "stdout",
     "output_type": "stream",
     "text": [
      "Reading Data\\Extracted\\202004-divvy-tripdata.csv data\n",
      "Reading Data\\Extracted\\202005-divvy-tripdata.csv data\n",
      "Reading Data\\Extracted\\202006-divvy-tripdata.csv data\n",
      "Reading Data\\Extracted\\202007-divvy-tripdata.csv data\n"
     ]
    }
   ],
   "source": [
    "directory = r'Data\\Extracted'\n",
    "transformed = pd.DataFrame()\n",
    "\n",
    "i = 0\n",
    "for filename in os.listdir(directory):\n",
    "    f = os.path.join(directory, filename)\n",
    "    \n",
    "    print(r'Reading {} data'.format(f))\n",
    "    transformed = pd.concat([transformed, pd.read_csv(f)], axis=0, ignore_index=True)\n",
    "    i += 1\n",
    "    \n",
    "    if i == 4:\n",
    "        break"
   ]
  },
  {
   "cell_type": "code",
   "execution_count": 4,
   "id": "327d282b",
   "metadata": {},
   "outputs": [
    {
     "data": {
      "text/plain": [
       "(1179535, 13)"
      ]
     },
     "execution_count": 4,
     "metadata": {},
     "output_type": "execute_result"
    }
   ],
   "source": [
    "transformed.shape"
   ]
  },
  {
   "cell_type": "code",
   "execution_count": 16,
   "id": "cb4156a8",
   "metadata": {},
   "outputs": [
    {
     "data": {
      "text/plain": [
       "10219381"
      ]
     },
     "execution_count": 16,
     "metadata": {},
     "output_type": "execute_result"
    }
   ],
   "source": [
    "84777 + 200275 + 343006 + 551458 + 622362 + 532959 + 388645 + 259717 + 131574 + 96835 + 49623 + 228497 + 337231 + 531634 + 729596 + 822411 + 804353 + 756148 + 631227 + 359979 + 247541 + 103771 + 115610 + 284043 + 371250 + 634859"
   ]
  },
  {
   "cell_type": "code",
   "execution_count": 5,
   "id": "16ef3df9",
   "metadata": {},
   "outputs": [],
   "source": [
    "def transform_data(df):\n",
    "\n",
    "    # Removal of duplicate rows\n",
    "    prev_rows = df.shape[0]\n",
    "    df.drop_duplicates(subset=['ride_id'], inplace=True)\n",
    "    print(prev_rows - df.shape[0], ' rows removed!')\n",
    "    \n",
    "    # Change datetime formats started_at, ended_at\n",
    "    df['started_at'] = pd.to_datetime(df['started_at'], format= '%Y-%m-%d %H:%M:%S')\n",
    "    df['ended_at'] = pd.to_datetime(df['ended_at'], format= '%Y-%m-%d %H:%M:%S')\n",
    "    print('Formats of the dates have been modified.')\n",
    "    \n",
    "    # Convert that time in minutes\n",
    "    df['ride_time'] = round(((df['ended_at'] - df['started_at']).dt.total_seconds()) / 60)\n",
    "    print('Ride time has been calculated.')\n",
    "\n",
    "    # Get year and month into one column\n",
    "    df['year_month'] = df['started_at'].dt.year.astype(str) + ' - ' + df['started_at'].dt.month.astype(str)\n",
    "    print('Calculated the starting month and day.')\n",
    "    \n",
    "    # Get the day of the week (Mon - 0, Tue - 1, ..., Sun - 6)\n",
    "    df['weekday'] = df['started_at'].dt.weekday\n",
    "    print('Calculated starting weekday.')\n",
    "    \n",
    "    # Get the start hour of the ride\n",
    "    df['start_hour'] = df['started_at'].dt.hour\n",
    "    print('Calculated start hour.')\n",
    "    \n",
    "    # Save the dataframe\n",
    "    df.to_csv(r'Data\\Transformed\\Transformed.csv', index = False, encoding='utf-8')\n",
    "    print('Transformed Data Saved Successfully.')\n"
   ]
  },
  {
   "cell_type": "code",
   "execution_count": 6,
   "id": "0ff496f5",
   "metadata": {},
   "outputs": [
    {
     "name": "stdout",
     "output_type": "stream",
     "text": [
      "0  rows removed!\n",
      "Formats of the dates have been modified.\n",
      "Ride time has been calculated.\n",
      "Calculated the starting month and day.\n",
      "Calculated starting weekday.\n",
      "Calculated start hour.\n",
      "Transformed Data Saved Successfully.\n"
     ]
    }
   ],
   "source": [
    "transform_data(transformed)"
   ]
  },
  {
   "cell_type": "code",
   "execution_count": 16,
   "id": "58a74024",
   "metadata": {
    "collapsed": true
   },
   "outputs": [
    {
     "data": {
      "text/plain": [
       "ride_id                       object\n",
       "rideable_type                 object\n",
       "started_at            datetime64[ns]\n",
       "ended_at              datetime64[ns]\n",
       "start_station_name            object\n",
       "start_station_id              object\n",
       "end_station_name              object\n",
       "end_station_id                object\n",
       "start_lat                    float64\n",
       "start_lng                    float64\n",
       "end_lat                      float64\n",
       "end_lng                      float64\n",
       "member_casual                 object\n",
       "ride_time                    float64\n",
       "year_month                    object\n",
       "weekday                        int64\n",
       "start_hour                     int64\n",
       "dtype: object"
      ]
     },
     "execution_count": 16,
     "metadata": {},
     "output_type": "execute_result"
    }
   ],
   "source": [
    "transformed.dtypes"
   ]
  },
  {
   "cell_type": "code",
   "execution_count": 7,
   "id": "e7669d3d",
   "metadata": {},
   "outputs": [],
   "source": [
    "del transformed"
   ]
  },
  {
   "cell_type": "code",
   "execution_count": 2,
   "id": "7cef8dce",
   "metadata": {},
   "outputs": [],
   "source": [
    "data = pd.read_csv(r\"Data\\Transformed\\Transformed.csv\")"
   ]
  },
  {
   "cell_type": "code",
   "execution_count": 3,
   "id": "ebb7f361",
   "metadata": {},
   "outputs": [
    {
     "data": {
      "text/html": [
       "<div>\n",
       "<style scoped>\n",
       "    .dataframe tbody tr th:only-of-type {\n",
       "        vertical-align: middle;\n",
       "    }\n",
       "\n",
       "    .dataframe tbody tr th {\n",
       "        vertical-align: top;\n",
       "    }\n",
       "\n",
       "    .dataframe thead th {\n",
       "        text-align: right;\n",
       "    }\n",
       "</style>\n",
       "<table border=\"1\" class=\"dataframe\">\n",
       "  <thead>\n",
       "    <tr style=\"text-align: right;\">\n",
       "      <th></th>\n",
       "      <th>ride_id</th>\n",
       "      <th>rideable_type</th>\n",
       "      <th>started_at</th>\n",
       "      <th>ended_at</th>\n",
       "      <th>start_station_name</th>\n",
       "      <th>start_station_id</th>\n",
       "      <th>end_station_name</th>\n",
       "      <th>end_station_id</th>\n",
       "      <th>start_lat</th>\n",
       "      <th>start_lng</th>\n",
       "      <th>end_lat</th>\n",
       "      <th>end_lng</th>\n",
       "      <th>member_casual</th>\n",
       "      <th>ride_time</th>\n",
       "      <th>year_month</th>\n",
       "      <th>weekday</th>\n",
       "      <th>start_hour</th>\n",
       "    </tr>\n",
       "  </thead>\n",
       "  <tbody>\n",
       "    <tr>\n",
       "      <th>0</th>\n",
       "      <td>A847FADBBC638E45</td>\n",
       "      <td>docked_bike</td>\n",
       "      <td>2020-04-26 17:45:14</td>\n",
       "      <td>2020-04-26 18:12:03</td>\n",
       "      <td>Eckhart Park</td>\n",
       "      <td>86.0</td>\n",
       "      <td>Lincoln Ave &amp; Diversey Pkwy</td>\n",
       "      <td>152.0</td>\n",
       "      <td>41.8964</td>\n",
       "      <td>-87.6610</td>\n",
       "      <td>41.9322</td>\n",
       "      <td>-87.6586</td>\n",
       "      <td>member</td>\n",
       "      <td>27.0</td>\n",
       "      <td>2020 - 4</td>\n",
       "      <td>6</td>\n",
       "      <td>17</td>\n",
       "    </tr>\n",
       "    <tr>\n",
       "      <th>1</th>\n",
       "      <td>5405B80E996FF60D</td>\n",
       "      <td>docked_bike</td>\n",
       "      <td>2020-04-17 17:08:54</td>\n",
       "      <td>2020-04-17 17:17:03</td>\n",
       "      <td>Drake Ave &amp; Fullerton Ave</td>\n",
       "      <td>503.0</td>\n",
       "      <td>Kosciuszko Park</td>\n",
       "      <td>499.0</td>\n",
       "      <td>41.9244</td>\n",
       "      <td>-87.7154</td>\n",
       "      <td>41.9306</td>\n",
       "      <td>-87.7238</td>\n",
       "      <td>member</td>\n",
       "      <td>8.0</td>\n",
       "      <td>2020 - 4</td>\n",
       "      <td>4</td>\n",
       "      <td>17</td>\n",
       "    </tr>\n",
       "    <tr>\n",
       "      <th>2</th>\n",
       "      <td>5DD24A79A4E006F4</td>\n",
       "      <td>docked_bike</td>\n",
       "      <td>2020-04-01 17:54:13</td>\n",
       "      <td>2020-04-01 18:08:36</td>\n",
       "      <td>McClurg Ct &amp; Erie St</td>\n",
       "      <td>142.0</td>\n",
       "      <td>Indiana Ave &amp; Roosevelt Rd</td>\n",
       "      <td>255.0</td>\n",
       "      <td>41.8945</td>\n",
       "      <td>-87.6179</td>\n",
       "      <td>41.8679</td>\n",
       "      <td>-87.6230</td>\n",
       "      <td>member</td>\n",
       "      <td>14.0</td>\n",
       "      <td>2020 - 4</td>\n",
       "      <td>2</td>\n",
       "      <td>17</td>\n",
       "    </tr>\n",
       "    <tr>\n",
       "      <th>3</th>\n",
       "      <td>2A59BBDF5CDBA725</td>\n",
       "      <td>docked_bike</td>\n",
       "      <td>2020-04-07 12:50:19</td>\n",
       "      <td>2020-04-07 13:02:31</td>\n",
       "      <td>California Ave &amp; Division St</td>\n",
       "      <td>216.0</td>\n",
       "      <td>Wood St &amp; Augusta Blvd</td>\n",
       "      <td>657.0</td>\n",
       "      <td>41.9030</td>\n",
       "      <td>-87.6975</td>\n",
       "      <td>41.8992</td>\n",
       "      <td>-87.6722</td>\n",
       "      <td>member</td>\n",
       "      <td>12.0</td>\n",
       "      <td>2020 - 4</td>\n",
       "      <td>1</td>\n",
       "      <td>12</td>\n",
       "    </tr>\n",
       "    <tr>\n",
       "      <th>4</th>\n",
       "      <td>27AD306C119C6158</td>\n",
       "      <td>docked_bike</td>\n",
       "      <td>2020-04-18 10:22:59</td>\n",
       "      <td>2020-04-18 11:15:54</td>\n",
       "      <td>Rush St &amp; Hubbard St</td>\n",
       "      <td>125.0</td>\n",
       "      <td>Sheridan Rd &amp; Lawrence Ave</td>\n",
       "      <td>323.0</td>\n",
       "      <td>41.8902</td>\n",
       "      <td>-87.6262</td>\n",
       "      <td>41.9695</td>\n",
       "      <td>-87.6547</td>\n",
       "      <td>casual</td>\n",
       "      <td>53.0</td>\n",
       "      <td>2020 - 4</td>\n",
       "      <td>5</td>\n",
       "      <td>10</td>\n",
       "    </tr>\n",
       "  </tbody>\n",
       "</table>\n",
       "</div>"
      ],
      "text/plain": [
       "            ride_id rideable_type           started_at             ended_at  \\\n",
       "0  A847FADBBC638E45   docked_bike  2020-04-26 17:45:14  2020-04-26 18:12:03   \n",
       "1  5405B80E996FF60D   docked_bike  2020-04-17 17:08:54  2020-04-17 17:17:03   \n",
       "2  5DD24A79A4E006F4   docked_bike  2020-04-01 17:54:13  2020-04-01 18:08:36   \n",
       "3  2A59BBDF5CDBA725   docked_bike  2020-04-07 12:50:19  2020-04-07 13:02:31   \n",
       "4  27AD306C119C6158   docked_bike  2020-04-18 10:22:59  2020-04-18 11:15:54   \n",
       "\n",
       "             start_station_name  start_station_id  \\\n",
       "0                  Eckhart Park              86.0   \n",
       "1     Drake Ave & Fullerton Ave             503.0   \n",
       "2          McClurg Ct & Erie St             142.0   \n",
       "3  California Ave & Division St             216.0   \n",
       "4          Rush St & Hubbard St             125.0   \n",
       "\n",
       "              end_station_name  end_station_id  start_lat  start_lng  end_lat  \\\n",
       "0  Lincoln Ave & Diversey Pkwy           152.0    41.8964   -87.6610  41.9322   \n",
       "1              Kosciuszko Park           499.0    41.9244   -87.7154  41.9306   \n",
       "2   Indiana Ave & Roosevelt Rd           255.0    41.8945   -87.6179  41.8679   \n",
       "3       Wood St & Augusta Blvd           657.0    41.9030   -87.6975  41.8992   \n",
       "4   Sheridan Rd & Lawrence Ave           323.0    41.8902   -87.6262  41.9695   \n",
       "\n",
       "   end_lng member_casual  ride_time year_month  weekday  start_hour  \n",
       "0 -87.6586        member       27.0   2020 - 4        6          17  \n",
       "1 -87.7238        member        8.0   2020 - 4        4          17  \n",
       "2 -87.6230        member       14.0   2020 - 4        2          17  \n",
       "3 -87.6722        member       12.0   2020 - 4        1          12  \n",
       "4 -87.6547        casual       53.0   2020 - 4        5          10  "
      ]
     },
     "execution_count": 3,
     "metadata": {},
     "output_type": "execute_result"
    }
   ],
   "source": [
    "data.head()"
   ]
  },
  {
   "cell_type": "code",
   "execution_count": 4,
   "id": "ba4c2297",
   "metadata": {},
   "outputs": [
    {
     "data": {
      "text/plain": [
       "(1179535, 17)"
      ]
     },
     "execution_count": 4,
     "metadata": {},
     "output_type": "execute_result"
    }
   ],
   "source": [
    "data.shape"
   ]
  },
  {
   "cell_type": "code",
   "execution_count": 11,
   "id": "9e2acc3a",
   "metadata": {},
   "outputs": [
    {
     "data": {
      "text/plain": [
       "[Text(0.5, 0, 'Member Types'), Text(0, 0.5, 'Count')]"
      ]
     },
     "execution_count": 11,
     "metadata": {},
     "output_type": "execute_result"
    },
    {
     "data": {
      "image/png": "[encoded data removed]",
      "text/plain": [
       "<Figure size 720x504 with 1 Axes>"
      ]
     },
     "metadata": {
      "needs_background": "light"
     },
     "output_type": "display_data"
    }
   ],
   "source": [
    "mp.figure(figsize=(10,7))\n",
    "mp.style.use(\"fivethirtyeight\")\n",
    "\n",
    "font = {'family' : 'cambria',\n",
    "        'weight' : 'bold',\n",
    "        'size'   : 15}\n",
    "\n",
    "mp.rc('font', **font)\n",
    "\n",
    "count_plot = data[\"member_casual\"].value_counts().plot.bar(rot=0)\n",
    "count_plot.tick_params(color=\"black\")\n",
    "count_plot.set(xlabel=\"Member Types\", ylabel=\"Count\")"
   ]
  },
  {
   "cell_type": "markdown",
   "id": "f41e8c97",
   "metadata": {},
   "source": [
    "[Aggregate Pandas DataFrame with Condition using NamedAgg](https://stackoverflow.com/questions/65409213/aggregate-pandas-dataframe-with-condition-using-namedagg)\n",
    "\n",
    "[Rarely Used Pandas Tricks](https://towardsdatascience.com/4-rarely-used-yet-very-useful-pandas-tricks-b43ef4b726fb)"
   ]
  },
  {
   "cell_type": "code",
   "execution_count": 30,
   "id": "e06c9f88",
   "metadata": {},
   "outputs": [],
   "source": [
    "group_data = data.groupby(['year_month'], as_index=False).agg(\n",
    "    ride_count = pd.NamedAgg(column='ride_id', aggfunc='count'),\n",
    "    ride_percentage = pd.NamedAgg('ride_id', lambda x:(x.count()/data['ride_id'].count())*100),\n",
    "    members_c = pd.NamedAgg('member_casual', lambda x: ((x == 'member').sum())),\n",
    "    casual_c = pd.NamedAgg('member_casual', lambda x: ((x == 'casual').sum())),\n",
    "    members_p = pd.NamedAgg('member_casual', lambda x: ((x == 'member').sum()/x.count())*100),\n",
    "    casual_p = pd.NamedAgg('member_casual', lambda x: ((x == 'casual').sum()/x.count())*100))\n",
    "\n",
    "group_data['mem_cas_p_diff'] = group_data['members_p'] - group_data['casual_p']\n",
    "group_data['mem_cas_c_diff'] = group_data['members_c'] - group_data['casual_c']"
   ]
  },
  {
   "cell_type": "code",
   "execution_count": 31,
   "id": "2234cbfb",
   "metadata": {},
   "outputs": [
    {
     "data": {
      "text/html": [
       "<div>\n",
       "<style scoped>\n",
       "    .dataframe tbody tr th:only-of-type {\n",
       "        vertical-align: middle;\n",
       "    }\n",
       "\n",
       "    .dataframe tbody tr th {\n",
       "        vertical-align: top;\n",
       "    }\n",
       "\n",
       "    .dataframe thead th {\n",
       "        text-align: right;\n",
       "    }\n",
       "</style>\n",
       "<table border=\"1\" class=\"dataframe\">\n",
       "  <thead>\n",
       "    <tr style=\"text-align: right;\">\n",
       "      <th></th>\n",
       "      <th>year_month</th>\n",
       "      <th>ride_count</th>\n",
       "      <th>ride_percentage</th>\n",
       "      <th>members_c</th>\n",
       "      <th>casual_c</th>\n",
       "      <th>members_p</th>\n",
       "      <th>casual_p</th>\n",
       "      <th>mem_cas_p_diff</th>\n",
       "      <th>mem_cas_c_diff</th>\n",
       "    </tr>\n",
       "  </thead>\n",
       "  <tbody>\n",
       "    <tr>\n",
       "      <th>0</th>\n",
       "      <td>2020 - 4</td>\n",
       "      <td>84776</td>\n",
       "      <td>7.187239</td>\n",
       "      <td>61148</td>\n",
       "      <td>23628</td>\n",
       "      <td>72.128904</td>\n",
       "      <td>27.871096</td>\n",
       "      <td>44.257809</td>\n",
       "      <td>37520</td>\n",
       "    </tr>\n",
       "    <tr>\n",
       "      <th>1</th>\n",
       "      <td>2020 - 5</td>\n",
       "      <td>200274</td>\n",
       "      <td>16.979064</td>\n",
       "      <td>113365</td>\n",
       "      <td>86909</td>\n",
       "      <td>56.604951</td>\n",
       "      <td>43.395049</td>\n",
       "      <td>13.209902</td>\n",
       "      <td>26456</td>\n",
       "    </tr>\n",
       "    <tr>\n",
       "      <th>2</th>\n",
       "      <td>2020 - 6</td>\n",
       "      <td>343005</td>\n",
       "      <td>29.079680</td>\n",
       "      <td>188287</td>\n",
       "      <td>154718</td>\n",
       "      <td>54.893369</td>\n",
       "      <td>45.106631</td>\n",
       "      <td>9.786738</td>\n",
       "      <td>33569</td>\n",
       "    </tr>\n",
       "    <tr>\n",
       "      <th>3</th>\n",
       "      <td>2020 - 7</td>\n",
       "      <td>551480</td>\n",
       "      <td>46.754017</td>\n",
       "      <td>282184</td>\n",
       "      <td>269296</td>\n",
       "      <td>51.168492</td>\n",
       "      <td>48.831508</td>\n",
       "      <td>2.336984</td>\n",
       "      <td>12888</td>\n",
       "    </tr>\n",
       "  </tbody>\n",
       "</table>\n",
       "</div>"
      ],
      "text/plain": [
       "  year_month  ride_count  ride_percentage  members_c  casual_c  members_p  \\\n",
       "0   2020 - 4       84776         7.187239      61148     23628  72.128904   \n",
       "1   2020 - 5      200274        16.979064     113365     86909  56.604951   \n",
       "2   2020 - 6      343005        29.079680     188287    154718  54.893369   \n",
       "3   2020 - 7      551480        46.754017     282184    269296  51.168492   \n",
       "\n",
       "    casual_p  mem_cas_p_diff  mem_cas_c_diff  \n",
       "0  27.871096       44.257809           37520  \n",
       "1  43.395049       13.209902           26456  \n",
       "2  45.106631        9.786738           33569  \n",
       "3  48.831508        2.336984           12888  "
      ]
     },
     "execution_count": 31,
     "metadata": {},
     "output_type": "execute_result"
    }
   ],
   "source": [
    "group_data.head()"
   ]
  },
  {
   "cell_type": "code",
   "execution_count": 48,
   "id": "690b9835",
   "metadata": {},
   "outputs": [
    {
     "data": {
      "text/plain": [
       "<Figure size 1080x1080 with 0 Axes>"
      ]
     },
     "metadata": {},
     "output_type": "display_data"
    },
    {
     "data": {
      "image/png": "[encoded data removed]",
      "text/plain": [
       "<Figure size 432x288 with 1 Axes>"
      ]
     },
     "metadata": {},
     "output_type": "display_data"
    }
   ],
   "source": [
    "_ = mp.figure(figsize=(15,15))\n",
    "_ = mp.style.use(\"fivethirtyeight\")\n",
    "\n",
    "font = {'family' : 'cambria',\n",
    "        'weight' : 'bold',\n",
    "        'size'   : 12}\n",
    "\n",
    "mp.rc('font', **font)\n",
    "\n",
    "ax = group_data[['year_month', 'members_c', 'casual_c']].plot(kind='barh', stacked=True, color=['red', 'blue'])\n",
    "ax.set_yticklabels(group_data['year_month'])\n",
    "_ = mp.xlabel('Ride Count')\n",
    "_ = mp.ylabel('Year-Month')\n",
    "_ = mp.title('Distribution by month')"
   ]
  },
  {
   "cell_type": "code",
   "execution_count": 50,
   "id": "8661522f",
   "metadata": {},
   "outputs": [],
   "source": [
    "group_data_by_week_day = data.groupby(['weekday'], as_index=False).agg(\n",
    "    ride_count = pd.NamedAgg(column='ride_id', aggfunc='count'),\n",
    "    ride_percentage = pd.NamedAgg('ride_id', lambda x:(x.count()/data['ride_id'].count())*100),\n",
    "    members_c = pd.NamedAgg('member_casual', lambda x: ((x == 'member').sum())),\n",
    "    casual_c = pd.NamedAgg('member_casual', lambda x: ((x == 'casual').sum())),\n",
    "    members_p = pd.NamedAgg('member_casual', lambda x: ((x == 'member').sum()/x.count())*100),\n",
    "    casual_p = pd.NamedAgg('member_casual', lambda x: ((x == 'casual').sum()/x.count())*100))\n",
    "\n",
    "group_data_by_week_day['mem_cas_p_diff'] = group_data_by_week_day['members_p'] - group_data_by_week_day['casual_p']\n",
    "group_data_by_week_day['mem_cas_c_diff'] = group_data_by_week_day['members_c'] - group_data_by_week_day['casual_c']"
   ]
  },
  {
   "cell_type": "code",
   "execution_count": 53,
   "id": "00caa8ed",
   "metadata": {},
   "outputs": [
    {
     "data": {
      "text/html": [
       "<div>\n",
       "<style scoped>\n",
       "    .dataframe tbody tr th:only-of-type {\n",
       "        vertical-align: middle;\n",
       "    }\n",
       "\n",
       "    .dataframe tbody tr th {\n",
       "        vertical-align: top;\n",
       "    }\n",
       "\n",
       "    .dataframe thead th {\n",
       "        text-align: right;\n",
       "    }\n",
       "</style>\n",
       "<table border=\"1\" class=\"dataframe\">\n",
       "  <thead>\n",
       "    <tr style=\"text-align: right;\">\n",
       "      <th></th>\n",
       "      <th>weekday</th>\n",
       "      <th>ride_count</th>\n",
       "      <th>ride_percentage</th>\n",
       "      <th>members_c</th>\n",
       "      <th>casual_c</th>\n",
       "      <th>members_p</th>\n",
       "      <th>casual_p</th>\n",
       "      <th>mem_cas_p_diff</th>\n",
       "      <th>mem_cas_c_diff</th>\n",
       "    </tr>\n",
       "  </thead>\n",
       "  <tbody>\n",
       "    <tr>\n",
       "      <th>0</th>\n",
       "      <td>0</td>\n",
       "      <td>133922</td>\n",
       "      <td>11.353796</td>\n",
       "      <td>78437</td>\n",
       "      <td>55485</td>\n",
       "      <td>58.569167</td>\n",
       "      <td>41.430833</td>\n",
       "      <td>17.138334</td>\n",
       "      <td>22952</td>\n",
       "    </tr>\n",
       "    <tr>\n",
       "      <th>1</th>\n",
       "      <td>1</td>\n",
       "      <td>138533</td>\n",
       "      <td>11.744713</td>\n",
       "      <td>83840</td>\n",
       "      <td>54693</td>\n",
       "      <td>60.519876</td>\n",
       "      <td>39.480124</td>\n",
       "      <td>21.039752</td>\n",
       "      <td>29147</td>\n",
       "    </tr>\n",
       "    <tr>\n",
       "      <th>2</th>\n",
       "      <td>2</td>\n",
       "      <td>147297</td>\n",
       "      <td>12.487718</td>\n",
       "      <td>89669</td>\n",
       "      <td>57628</td>\n",
       "      <td>60.876325</td>\n",
       "      <td>39.123675</td>\n",
       "      <td>21.752649</td>\n",
       "      <td>32041</td>\n",
       "    </tr>\n",
       "    <tr>\n",
       "      <th>3</th>\n",
       "      <td>3</td>\n",
       "      <td>166402</td>\n",
       "      <td>14.107424</td>\n",
       "      <td>98356</td>\n",
       "      <td>68046</td>\n",
       "      <td>59.107463</td>\n",
       "      <td>40.892537</td>\n",
       "      <td>18.214925</td>\n",
       "      <td>30310</td>\n",
       "    </tr>\n",
       "    <tr>\n",
       "      <th>4</th>\n",
       "      <td>4</td>\n",
       "      <td>185622</td>\n",
       "      <td>15.736879</td>\n",
       "      <td>101650</td>\n",
       "      <td>83972</td>\n",
       "      <td>54.761828</td>\n",
       "      <td>45.238172</td>\n",
       "      <td>9.523656</td>\n",
       "      <td>17678</td>\n",
       "    </tr>\n",
       "    <tr>\n",
       "      <th>5</th>\n",
       "      <td>5</td>\n",
       "      <td>224672</td>\n",
       "      <td>19.047506</td>\n",
       "      <td>105855</td>\n",
       "      <td>118817</td>\n",
       "      <td>47.115350</td>\n",
       "      <td>52.884650</td>\n",
       "      <td>-5.769299</td>\n",
       "      <td>-12962</td>\n",
       "    </tr>\n",
       "    <tr>\n",
       "      <th>6</th>\n",
       "      <td>6</td>\n",
       "      <td>183087</td>\n",
       "      <td>15.521964</td>\n",
       "      <td>87177</td>\n",
       "      <td>95910</td>\n",
       "      <td>47.615068</td>\n",
       "      <td>52.384932</td>\n",
       "      <td>-4.769864</td>\n",
       "      <td>-8733</td>\n",
       "    </tr>\n",
       "  </tbody>\n",
       "</table>\n",
       "</div>"
      ],
      "text/plain": [
       "   weekday  ride_count  ride_percentage  members_c  casual_c  members_p  \\\n",
       "0        0      133922        11.353796      78437     55485  58.569167   \n",
       "1        1      138533        11.744713      83840     54693  60.519876   \n",
       "2        2      147297        12.487718      89669     57628  60.876325   \n",
       "3        3      166402        14.107424      98356     68046  59.107463   \n",
       "4        4      185622        15.736879     101650     83972  54.761828   \n",
       "5        5      224672        19.047506     105855    118817  47.115350   \n",
       "6        6      183087        15.521964      87177     95910  47.615068   \n",
       "\n",
       "    casual_p  mem_cas_p_diff  mem_cas_c_diff  \n",
       "0  41.430833       17.138334           22952  \n",
       "1  39.480124       21.039752           29147  \n",
       "2  39.123675       21.752649           32041  \n",
       "3  40.892537       18.214925           30310  \n",
       "4  45.238172        9.523656           17678  \n",
       "5  52.884650       -5.769299          -12962  \n",
       "6  52.384932       -4.769864           -8733  "
      ]
     },
     "execution_count": 53,
     "metadata": {},
     "output_type": "execute_result"
    }
   ],
   "source": [
    "group_data_by_week_day"
   ]
  },
  {
   "cell_type": "code",
   "execution_count": 70,
   "id": "0b2b2328",
   "metadata": {
    "scrolled": false
   },
   "outputs": [
    {
     "data": {
      "text/plain": [
       "<Figure size 1080x1080 with 0 Axes>"
      ]
     },
     "metadata": {},
     "output_type": "display_data"
    },
    {
     "data": {
      "image/png": "[encoded data removed]",
      "text/plain": [
       "<Figure size 936x576 with 1 Axes>"
      ]
     },
     "metadata": {},
     "output_type": "display_data"
    }
   ],
   "source": [
    "_ = mp.figure(figsize=(15,15))\n",
    "_ = mp.style.use(\"fivethirtyeight\")\n",
    "\n",
    "font = {'family' : 'cambria',\n",
    "        'size'   : 12}\n",
    "\n",
    "mp.rc('font', **font)\n",
    "\n",
    "ax = group_data_by_week_day[['weekday', 'members_c', 'casual_c']].plot(kind='barh', stacked=True, color=['red', 'yellow'], figsize=(13,8))\n",
    "ax.set_yticklabels(['Monday', 'Tuesday', 'Wednesday', 'Thursday', 'Friday', 'Saturday', 'Sunday'])\n",
    "_ = mp.xticks(np.arange(0, 300000, 25000))\n",
    "_ = mp.xlabel('Ride Count')\n",
    "_ = mp.ylabel('Weekday')\n",
    "_ = mp.title('Distribution by Weekday')\n",
    "_ = mp.legend([\"member\", \"casual\"])"
   ]
  },
  {
   "cell_type": "markdown",
   "id": "6cf205f2",
   "metadata": {},
   "source": [
    "0 - Monday   ||    1 - Tuesday   ||    2 - Wednesday   ||    3 - Thursday   ||    4 - Friday   ||    5 - Saturday   ||    6 - Sunday"
   ]
  },
  {
   "cell_type": "markdown",
   "id": "597d8bc8",
   "metadata": {},
   "source": [
    "Most Rides are on the weekend. Members have the most rides during weekend.\n",
    "\n",
    "Saturday has most rides.\n",
    "\n",
    "During weekdays, casuals have most rides.\n",
    "\n",
    "Weekends have the most rides of casual, highest being friday."
   ]
  },
  {
   "cell_type": "code",
   "execution_count": 60,
   "id": "176d1780",
   "metadata": {},
   "outputs": [],
   "source": [
    "group_data_by_start_hour = data.groupby(['start_hour'], as_index=False).agg(\n",
    "    ride_count = pd.NamedAgg(column='ride_id', aggfunc='count'),\n",
    "    ride_percentage = pd.NamedAgg('ride_id', lambda x:(x.count()/data['ride_id'].count())*100),\n",
    "    members_c = pd.NamedAgg('member_casual', lambda x: ((x == 'member').sum())),\n",
    "    casual_c = pd.NamedAgg('member_casual', lambda x: ((x == 'casual').sum())),\n",
    "    members_p = pd.NamedAgg('member_casual', lambda x: ((x == 'member').sum()/x.count())*100),\n",
    "    casual_p = pd.NamedAgg('member_casual', lambda x: ((x == 'casual').sum()/x.count())*100))\n",
    "\n",
    "group_data_by_start_hour['mem_cas_p_diff'] = group_data_by_start_hour['members_p'] - group_data_by_start_hour['casual_p']\n",
    "group_data_by_start_hour['mem_cas_c_diff'] = group_data_by_start_hour['members_c'] - group_data_by_start_hour['casual_c']"
   ]
  },
  {
   "cell_type": "code",
   "execution_count": 75,
   "id": "220f1d9e",
   "metadata": {},
   "outputs": [
    {
     "data": {
      "text/plain": [
       "<Figure size 1080x1080 with 0 Axes>"
      ]
     },
     "metadata": {},
     "output_type": "display_data"
    },
    {
     "data": {
      "image/png": "[encoded data removed]",
      "text/plain": [
       "<Figure size 936x720 with 1 Axes>"
      ]
     },
     "metadata": {},
     "output_type": "display_data"
    }
   ],
   "source": [
    "_ = mp.figure(figsize=(15,15))\n",
    "_ = mp.style.use(\"fivethirtyeight\")\n",
    "\n",
    "font = {'family' : 'cambria',\n",
    "        'size'   : 12}\n",
    "\n",
    "mp.rc('font', **font)\n",
    "\n",
    "ax = group_data_by_start_hour[['start_hour', 'members_c', 'casual_c']].plot(kind='barh', stacked=True, color=['red', 'yellow'], figsize=(13,10))\n",
    "ax.set_yticklabels(group_data_by_start_hour['start_hour'])\n",
    "_ = mp.xticks(np.arange(0, 150000, 20000))\n",
    "_ = mp.xlabel('Ride Count')\n",
    "_ = mp.ylabel('Start-Hour')\n",
    "_ = mp.title('Distribution by Start-Hour')\n",
    "_ = mp.legend([\"member\", \"casual\"])"
   ]
  },
  {
   "cell_type": "markdown",
   "id": "6ab6a3df",
   "metadata": {},
   "source": [
    "Sharp increase in the number of rides in the afternoon till early night\n",
    "\n",
    "The number of members is more as compared to the casuals in early morning\n",
    "\n",
    "For the rest of the day the number of casuals and members \n",
    "This chart can be expanded ween seen it divided by day of the week."
   ]
  },
  {
   "cell_type": "code",
   "execution_count": null,
   "id": "912e9395",
   "metadata": {},
   "outputs": [],
   "source": []
  },
  {
   "cell_type": "code",
   "execution_count": null,
   "id": "3b502e2f",
   "metadata": {},
   "outputs": [],
   "source": []
  },
  {
   "cell_type": "code",
   "execution_count": null,
   "id": "ea9e5306",
   "metadata": {},
   "outputs": [],
   "source": []
  },
  {
   "cell_type": "code",
   "execution_count": null,
   "id": "d926fba0",
   "metadata": {},
   "outputs": [],
   "source": []
  },
  {
   "cell_type": "code",
   "execution_count": null,
   "id": "57e315f0",
   "metadata": {},
   "outputs": [],
   "source": []
  },
  {
   "cell_type": "code",
   "execution_count": 52,
   "id": "9832d251",
   "metadata": {
    "scrolled": true
   },
   "outputs": [
    {
     "data": {
      "text/html": [
       "<div>\n",
       "<style scoped>\n",
       "    .dataframe tbody tr th:only-of-type {\n",
       "        vertical-align: middle;\n",
       "    }\n",
       "\n",
       "    .dataframe tbody tr th {\n",
       "        vertical-align: top;\n",
       "    }\n",
       "\n",
       "    .dataframe thead th {\n",
       "        text-align: right;\n",
       "    }\n",
       "</style>\n",
       "<table border=\"1\" class=\"dataframe\">\n",
       "  <thead>\n",
       "    <tr style=\"text-align: right;\">\n",
       "      <th></th>\n",
       "      <th>ride_id</th>\n",
       "      <th>rideable_type</th>\n",
       "      <th>started_at</th>\n",
       "      <th>ended_at</th>\n",
       "      <th>start_station_name</th>\n",
       "      <th>start_station_id</th>\n",
       "      <th>end_station_name</th>\n",
       "      <th>end_station_id</th>\n",
       "      <th>start_lat</th>\n",
       "      <th>start_lng</th>\n",
       "      <th>end_lat</th>\n",
       "      <th>end_lng</th>\n",
       "      <th>member_casual</th>\n",
       "      <th>ride_time</th>\n",
       "      <th>year_month</th>\n",
       "      <th>weekday</th>\n",
       "      <th>start_hour</th>\n",
       "    </tr>\n",
       "  </thead>\n",
       "  <tbody>\n",
       "    <tr>\n",
       "      <th>0</th>\n",
       "      <td>A847FADBBC638E45</td>\n",
       "      <td>docked_bike</td>\n",
       "      <td>2020-04-26 17:45:14</td>\n",
       "      <td>2020-04-26 18:12:03</td>\n",
       "      <td>Eckhart Park</td>\n",
       "      <td>86.0</td>\n",
       "      <td>Lincoln Ave &amp; Diversey Pkwy</td>\n",
       "      <td>152.0</td>\n",
       "      <td>41.8964</td>\n",
       "      <td>-87.6610</td>\n",
       "      <td>41.9322</td>\n",
       "      <td>-87.6586</td>\n",
       "      <td>member</td>\n",
       "      <td>27.0</td>\n",
       "      <td>2020 - 4</td>\n",
       "      <td>6</td>\n",
       "      <td>17</td>\n",
       "    </tr>\n",
       "    <tr>\n",
       "      <th>1</th>\n",
       "      <td>5405B80E996FF60D</td>\n",
       "      <td>docked_bike</td>\n",
       "      <td>2020-04-17 17:08:54</td>\n",
       "      <td>2020-04-17 17:17:03</td>\n",
       "      <td>Drake Ave &amp; Fullerton Ave</td>\n",
       "      <td>503.0</td>\n",
       "      <td>Kosciuszko Park</td>\n",
       "      <td>499.0</td>\n",
       "      <td>41.9244</td>\n",
       "      <td>-87.7154</td>\n",
       "      <td>41.9306</td>\n",
       "      <td>-87.7238</td>\n",
       "      <td>member</td>\n",
       "      <td>8.0</td>\n",
       "      <td>2020 - 4</td>\n",
       "      <td>4</td>\n",
       "      <td>17</td>\n",
       "    </tr>\n",
       "    <tr>\n",
       "      <th>2</th>\n",
       "      <td>5DD24A79A4E006F4</td>\n",
       "      <td>docked_bike</td>\n",
       "      <td>2020-04-01 17:54:13</td>\n",
       "      <td>2020-04-01 18:08:36</td>\n",
       "      <td>McClurg Ct &amp; Erie St</td>\n",
       "      <td>142.0</td>\n",
       "      <td>Indiana Ave &amp; Roosevelt Rd</td>\n",
       "      <td>255.0</td>\n",
       "      <td>41.8945</td>\n",
       "      <td>-87.6179</td>\n",
       "      <td>41.8679</td>\n",
       "      <td>-87.6230</td>\n",
       "      <td>member</td>\n",
       "      <td>14.0</td>\n",
       "      <td>2020 - 4</td>\n",
       "      <td>2</td>\n",
       "      <td>17</td>\n",
       "    </tr>\n",
       "    <tr>\n",
       "      <th>3</th>\n",
       "      <td>2A59BBDF5CDBA725</td>\n",
       "      <td>docked_bike</td>\n",
       "      <td>2020-04-07 12:50:19</td>\n",
       "      <td>2020-04-07 13:02:31</td>\n",
       "      <td>California Ave &amp; Division St</td>\n",
       "      <td>216.0</td>\n",
       "      <td>Wood St &amp; Augusta Blvd</td>\n",
       "      <td>657.0</td>\n",
       "      <td>41.9030</td>\n",
       "      <td>-87.6975</td>\n",
       "      <td>41.8992</td>\n",
       "      <td>-87.6722</td>\n",
       "      <td>member</td>\n",
       "      <td>12.0</td>\n",
       "      <td>2020 - 4</td>\n",
       "      <td>1</td>\n",
       "      <td>12</td>\n",
       "    </tr>\n",
       "    <tr>\n",
       "      <th>4</th>\n",
       "      <td>27AD306C119C6158</td>\n",
       "      <td>docked_bike</td>\n",
       "      <td>2020-04-18 10:22:59</td>\n",
       "      <td>2020-04-18 11:15:54</td>\n",
       "      <td>Rush St &amp; Hubbard St</td>\n",
       "      <td>125.0</td>\n",
       "      <td>Sheridan Rd &amp; Lawrence Ave</td>\n",
       "      <td>323.0</td>\n",
       "      <td>41.8902</td>\n",
       "      <td>-87.6262</td>\n",
       "      <td>41.9695</td>\n",
       "      <td>-87.6547</td>\n",
       "      <td>casual</td>\n",
       "      <td>53.0</td>\n",
       "      <td>2020 - 4</td>\n",
       "      <td>5</td>\n",
       "      <td>10</td>\n",
       "    </tr>\n",
       "  </tbody>\n",
       "</table>\n",
       "</div>"
      ],
      "text/plain": [
       "            ride_id rideable_type           started_at             ended_at  \\\n",
       "0  A847FADBBC638E45   docked_bike  2020-04-26 17:45:14  2020-04-26 18:12:03   \n",
       "1  5405B80E996FF60D   docked_bike  2020-04-17 17:08:54  2020-04-17 17:17:03   \n",
       "2  5DD24A79A4E006F4   docked_bike  2020-04-01 17:54:13  2020-04-01 18:08:36   \n",
       "3  2A59BBDF5CDBA725   docked_bike  2020-04-07 12:50:19  2020-04-07 13:02:31   \n",
       "4  27AD306C119C6158   docked_bike  2020-04-18 10:22:59  2020-04-18 11:15:54   \n",
       "\n",
       "             start_station_name  start_station_id  \\\n",
       "0                  Eckhart Park              86.0   \n",
       "1     Drake Ave & Fullerton Ave             503.0   \n",
       "2          McClurg Ct & Erie St             142.0   \n",
       "3  California Ave & Division St             216.0   \n",
       "4          Rush St & Hubbard St             125.0   \n",
       "\n",
       "              end_station_name  end_station_id  start_lat  start_lng  end_lat  \\\n",
       "0  Lincoln Ave & Diversey Pkwy           152.0    41.8964   -87.6610  41.9322   \n",
       "1              Kosciuszko Park           499.0    41.9244   -87.7154  41.9306   \n",
       "2   Indiana Ave & Roosevelt Rd           255.0    41.8945   -87.6179  41.8679   \n",
       "3       Wood St & Augusta Blvd           657.0    41.9030   -87.6975  41.8992   \n",
       "4   Sheridan Rd & Lawrence Ave           323.0    41.8902   -87.6262  41.9695   \n",
       "\n",
       "   end_lng member_casual  ride_time year_month  weekday  start_hour  \n",
       "0 -87.6586        member       27.0   2020 - 4        6          17  \n",
       "1 -87.7238        member        8.0   2020 - 4        4          17  \n",
       "2 -87.6230        member       14.0   2020 - 4        2          17  \n",
       "3 -87.6722        member       12.0   2020 - 4        1          12  \n",
       "4 -87.6547        casual       53.0   2020 - 4        5          10  "
      ]
     },
     "execution_count": 52,
     "metadata": {},
     "output_type": "execute_result"
    }
   ],
   "source": [
    "data.head()"
   ]
  },
  {
   "cell_type": "code",
   "execution_count": null,
   "id": "2f161767",
   "metadata": {},
   "outputs": [],
   "source": []
  }
 ],
 "metadata": {
  "kernelspec": {
   "display_name": "Python 3 (ipykernel)",
   "language": "python",
   "name": "python3"
  },
  "language_info": {
   "codemirror_mode": {
    "name": "ipython",
    "version": 3
   },
   "file_extension": ".py",
   "mimetype": "text/x-python",
   "name": "python",
   "nbconvert_exporter": "python",
   "pygments_lexer": "ipython3",
   "version": "3.10.4"
  }
 },
 "nbformat": 4,
 "nbformat_minor": 5
}
