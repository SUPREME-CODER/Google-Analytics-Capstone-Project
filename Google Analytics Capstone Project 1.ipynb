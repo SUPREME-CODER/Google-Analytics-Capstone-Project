{
 "cells": [
  {
   "cell_type": "markdown",
   "id": "60b546f2",
   "metadata": {},
   "source": [
    "[Project Solution 1](https://www.kaggle.com/code/rodrigoleyva2/google-data-analytics-cyclistic-capstone-project/notebook)\n",
    "\n",
    "[Project Solution 2](https://www.kaggle.com/code/chingheichau/google-data-analytics-capstone-project-1/notebook)\n",
    "\n",
    "[Project Solution 3](https://www.kaggle.com/code/jhelisonuchoa/google-data-analytics-capstone-case-study-1) - Required Solution"
   ]
  },
  {
   "cell_type": "code",
   "execution_count": 1,
   "id": "db71d68d",
   "metadata": {},
   "outputs": [],
   "source": [
    "import pandas as pd\n",
    "import matplotlib.pyplot as mp\n",
    "import numpy as np\n",
    "\n",
    "import os\n",
    "\n",
    "%matplotlib inline"
   ]
  },
  {
   "cell_type": "code",
   "execution_count": 12,
   "id": "5383ef6a",
   "metadata": {
    "collapsed": true
   },
   "outputs": [
    {
     "name": "stdout",
     "output_type": "stream",
     "text": [
      "Reading Data\\Extracted\\202004-divvy-tripdata.csv data\n",
      "Reading Data\\Extracted\\202005-divvy-tripdata.csv data\n",
      "Reading Data\\Extracted\\202006-divvy-tripdata.csv data\n",
      "Reading Data\\Extracted\\202007-divvy-tripdata.csv data\n",
      "Reading Data\\Extracted\\202008-divvy-tripdata.csv data\n",
      "Reading Data\\Extracted\\202009-divvy-tripdata.csv data\n",
      "Reading Data\\Extracted\\202010-divvy-tripdata.csv data\n",
      "Reading Data\\Extracted\\202011-divvy-tripdata.csv data\n",
      "Reading Data\\Extracted\\202012-divvy-tripdata.csv data\n",
      "Reading Data\\Extracted\\202101-divvy-tripdata.csv data\n",
      "Reading Data\\Extracted\\202102-divvy-tripdata.csv data\n",
      "Reading Data\\Extracted\\202103-divvy-tripdata.csv data\n",
      "Reading Data\\Extracted\\202104-divvy-tripdata.csv data\n",
      "Reading Data\\Extracted\\202105-divvy-tripdata.csv data\n",
      "Reading Data\\Extracted\\202106-divvy-tripdata.csv data\n",
      "Reading Data\\Extracted\\202107-divvy-tripdata.csv data\n",
      "Reading Data\\Extracted\\202108-divvy-tripdata.csv data\n",
      "Reading Data\\Extracted\\202109-divvy-tripdata.csv data\n",
      "Reading Data\\Extracted\\202110-divvy-tripdata.csv data\n",
      "Reading Data\\Extracted\\202111-divvy-tripdata.csv data\n",
      "Reading Data\\Extracted\\202112-divvy-tripdata.csv data\n",
      "Reading Data\\Extracted\\202201-divvy-tripdata.csv data\n",
      "Reading Data\\Extracted\\202202-divvy-tripdata.csv data\n",
      "Reading Data\\Extracted\\202203-divvy-tripdata.csv data\n",
      "Reading Data\\Extracted\\202204-divvy-tripdata.csv data\n",
      "Reading Data\\Extracted\\202205-divvy-tripdata.csv data\n"
     ]
    }
   ],
   "source": [
    "directory = r'Data\\Extracted'\n",
    "transformed = pd.DataFrame()\n",
    "\n",
    "for filename in os.listdir(directory):\n",
    "    f = os.path.join(directory, filename)\n",
    "    \n",
    "    print(r'Reading {} data'.format(f))\n",
    "    transformed = pd.concat([transformed, pd.read_csv(f)], axis=0, ignore_index=True)"
   ]
  },
  {
   "cell_type": "code",
   "execution_count": 14,
   "id": "327d282b",
   "metadata": {
    "collapsed": true
   },
   "outputs": [
    {
     "data": {
      "text/html": [
       "<div>\n",
       "<style scoped>\n",
       "    .dataframe tbody tr th:only-of-type {\n",
       "        vertical-align: middle;\n",
       "    }\n",
       "\n",
       "    .dataframe tbody tr th {\n",
       "        vertical-align: top;\n",
       "    }\n",
       "\n",
       "    .dataframe thead th {\n",
       "        text-align: right;\n",
       "    }\n",
       "</style>\n",
       "<table border=\"1\" class=\"dataframe\">\n",
       "  <thead>\n",
       "    <tr style=\"text-align: right;\">\n",
       "      <th></th>\n",
       "      <th>ride_id</th>\n",
       "      <th>rideable_type</th>\n",
       "      <th>started_at</th>\n",
       "      <th>ended_at</th>\n",
       "      <th>start_station_name</th>\n",
       "      <th>start_station_id</th>\n",
       "      <th>end_station_name</th>\n",
       "      <th>end_station_id</th>\n",
       "      <th>start_lat</th>\n",
       "      <th>start_lng</th>\n",
       "      <th>end_lat</th>\n",
       "      <th>end_lng</th>\n",
       "      <th>member_casual</th>\n",
       "    </tr>\n",
       "  </thead>\n",
       "  <tbody>\n",
       "    <tr>\n",
       "      <th>0</th>\n",
       "      <td>A847FADBBC638E45</td>\n",
       "      <td>docked_bike</td>\n",
       "      <td>2020-04-26 17:45:14</td>\n",
       "      <td>2020-04-26 18:12:03</td>\n",
       "      <td>Eckhart Park</td>\n",
       "      <td>86.0</td>\n",
       "      <td>Lincoln Ave &amp; Diversey Pkwy</td>\n",
       "      <td>152.0</td>\n",
       "      <td>41.8964</td>\n",
       "      <td>-87.6610</td>\n",
       "      <td>41.9322</td>\n",
       "      <td>-87.6586</td>\n",
       "      <td>member</td>\n",
       "    </tr>\n",
       "    <tr>\n",
       "      <th>1</th>\n",
       "      <td>5405B80E996FF60D</td>\n",
       "      <td>docked_bike</td>\n",
       "      <td>2020-04-17 17:08:54</td>\n",
       "      <td>2020-04-17 17:17:03</td>\n",
       "      <td>Drake Ave &amp; Fullerton Ave</td>\n",
       "      <td>503.0</td>\n",
       "      <td>Kosciuszko Park</td>\n",
       "      <td>499.0</td>\n",
       "      <td>41.9244</td>\n",
       "      <td>-87.7154</td>\n",
       "      <td>41.9306</td>\n",
       "      <td>-87.7238</td>\n",
       "      <td>member</td>\n",
       "    </tr>\n",
       "    <tr>\n",
       "      <th>2</th>\n",
       "      <td>5DD24A79A4E006F4</td>\n",
       "      <td>docked_bike</td>\n",
       "      <td>2020-04-01 17:54:13</td>\n",
       "      <td>2020-04-01 18:08:36</td>\n",
       "      <td>McClurg Ct &amp; Erie St</td>\n",
       "      <td>142.0</td>\n",
       "      <td>Indiana Ave &amp; Roosevelt Rd</td>\n",
       "      <td>255.0</td>\n",
       "      <td>41.8945</td>\n",
       "      <td>-87.6179</td>\n",
       "      <td>41.8679</td>\n",
       "      <td>-87.6230</td>\n",
       "      <td>member</td>\n",
       "    </tr>\n",
       "    <tr>\n",
       "      <th>3</th>\n",
       "      <td>2A59BBDF5CDBA725</td>\n",
       "      <td>docked_bike</td>\n",
       "      <td>2020-04-07 12:50:19</td>\n",
       "      <td>2020-04-07 13:02:31</td>\n",
       "      <td>California Ave &amp; Division St</td>\n",
       "      <td>216.0</td>\n",
       "      <td>Wood St &amp; Augusta Blvd</td>\n",
       "      <td>657.0</td>\n",
       "      <td>41.9030</td>\n",
       "      <td>-87.6975</td>\n",
       "      <td>41.8992</td>\n",
       "      <td>-87.6722</td>\n",
       "      <td>member</td>\n",
       "    </tr>\n",
       "    <tr>\n",
       "      <th>4</th>\n",
       "      <td>27AD306C119C6158</td>\n",
       "      <td>docked_bike</td>\n",
       "      <td>2020-04-18 10:22:59</td>\n",
       "      <td>2020-04-18 11:15:54</td>\n",
       "      <td>Rush St &amp; Hubbard St</td>\n",
       "      <td>125.0</td>\n",
       "      <td>Sheridan Rd &amp; Lawrence Ave</td>\n",
       "      <td>323.0</td>\n",
       "      <td>41.8902</td>\n",
       "      <td>-87.6262</td>\n",
       "      <td>41.9695</td>\n",
       "      <td>-87.6547</td>\n",
       "      <td>casual</td>\n",
       "    </tr>\n",
       "  </tbody>\n",
       "</table>\n",
       "</div>"
      ],
      "text/plain": [
       "            ride_id rideable_type           started_at             ended_at  \\\n",
       "0  A847FADBBC638E45   docked_bike  2020-04-26 17:45:14  2020-04-26 18:12:03   \n",
       "1  5405B80E996FF60D   docked_bike  2020-04-17 17:08:54  2020-04-17 17:17:03   \n",
       "2  5DD24A79A4E006F4   docked_bike  2020-04-01 17:54:13  2020-04-01 18:08:36   \n",
       "3  2A59BBDF5CDBA725   docked_bike  2020-04-07 12:50:19  2020-04-07 13:02:31   \n",
       "4  27AD306C119C6158   docked_bike  2020-04-18 10:22:59  2020-04-18 11:15:54   \n",
       "\n",
       "             start_station_name start_station_id             end_station_name  \\\n",
       "0                  Eckhart Park             86.0  Lincoln Ave & Diversey Pkwy   \n",
       "1     Drake Ave & Fullerton Ave            503.0              Kosciuszko Park   \n",
       "2          McClurg Ct & Erie St            142.0   Indiana Ave & Roosevelt Rd   \n",
       "3  California Ave & Division St            216.0       Wood St & Augusta Blvd   \n",
       "4          Rush St & Hubbard St            125.0   Sheridan Rd & Lawrence Ave   \n",
       "\n",
       "  end_station_id  start_lat  start_lng  end_lat  end_lng member_casual  \n",
       "0          152.0    41.8964   -87.6610  41.9322 -87.6586        member  \n",
       "1          499.0    41.9244   -87.7154  41.9306 -87.7238        member  \n",
       "2          255.0    41.8945   -87.6179  41.8679 -87.6230        member  \n",
       "3          657.0    41.9030   -87.6975  41.8992 -87.6722        member  \n",
       "4          323.0    41.8902   -87.6262  41.9695 -87.6547        casual  "
      ]
     },
     "execution_count": 14,
     "metadata": {},
     "output_type": "execute_result"
    }
   ],
   "source": [
    "transformed.head()"
   ]
  },
  {
   "cell_type": "code",
   "execution_count": 16,
   "id": "cb4156a8",
   "metadata": {},
   "outputs": [
    {
     "data": {
      "text/plain": [
       "10219381"
      ]
     },
     "execution_count": 16,
     "metadata": {},
     "output_type": "execute_result"
    }
   ],
   "source": [
    "84777 + 200275 + 343006 + 551458 + 622362 + 532959 + 388645 + 259717 + 131574 + 96835 + 49623 + 228497 + 337231 + 531634 + 729596 + 822411 + 804353 + 756148 + 631227 + 359979 + 247541 + 103771 + 115610 + 284043 + 371250 + 634859"
   ]
  },
  {
   "cell_type": "code",
   "execution_count": 52,
   "id": "16ef3df9",
   "metadata": {},
   "outputs": [],
   "source": [
    "def transform_data(df):\n",
    "\n",
    "    # Removal of duplicate rows\n",
    "    prev_rows = df.shape[0]\n",
    "    df.drop_duplicates(subset=['ride_id'], inplace=True)\n",
    "    print(df.shape[0] - prev_rows, ' rows removed!')\n",
    "    \n",
    "    # Change datetime formats started_at, ended_at\n",
    "    df['started_at'] = pd.to_datetime(df['started_at'], format= '%Y-%m-%d %H:%M:%S')\n",
    "    df['ended_at'] = pd.to_datetime(df['ended_at'], format= '%Y-%m-%d %H:%M:%S')\n",
    "    print('Formats of the dates have been modified.')\n",
    "    \n",
    "    # Convert that time in minutes\n",
    "    df['ride_time'] = round(((df['ended_at'] - df['started_at']).dt.total_seconds()) / 60)\n",
    "    print('Ride time has been calculated.')\n",
    "\n",
    "    # Get year and month into one column\n",
    "    df['month-day'] = df['started_at'].dt.year.astype(str) + ' - ' + df['started_at'].dt.month.astype(str)\n",
    "    print('Calculated the starting month and day.')\n",
    "    \n",
    "    # Get the day of the week (Mon - 0, Tue - 1, ..., Sun - 6)\n",
    "    df['weekday'] = df['started_at'].dt.weekday\n",
    "    print('Calculated starting weekday.')\n",
    "    \n",
    "    # Get the start hour of the ride\n",
    "    df['start_hour'] = df['started_at'].dt.hour\n",
    "    print('Calculated start hour.')\n",
    "    \n",
    "    # Save the dataframe\n",
    "    df.to_csv(r'Data\\Transformed\\Transformed.csv', index = False, encoding='utf-8')\n",
    "    print('Transformed Data Saved Successfully.')\n"
   ]
  },
  {
   "cell_type": "code",
   "execution_count": 53,
   "id": "0ff496f5",
   "metadata": {},
   "outputs": [
    {
     "name": "stdout",
     "output_type": "stream",
     "text": [
      "0  rows removed!\n",
      "Formats of the dates have been modified.\n",
      "Ride time has been calculated.\n",
      "Calculated the starting month and day.\n",
      "Calculated starting weekday.\n",
      "Calculated start hour.\n",
      "Transformed Data Saved Successfully.\n"
     ]
    }
   ],
   "source": [
    "transform_data(transformed)"
   ]
  },
  {
   "cell_type": "code",
   "execution_count": 54,
   "id": "58a74024",
   "metadata": {
    "scrolled": true
   },
   "outputs": [
    {
     "data": {
      "text/plain": [
       "ride_id                       object\n",
       "rideable_type                 object\n",
       "started_at            datetime64[ns]\n",
       "ended_at              datetime64[ns]\n",
       "start_station_name            object\n",
       "start_station_id              object\n",
       "end_station_name              object\n",
       "end_station_id                object\n",
       "start_lat                    float64\n",
       "start_lng                    float64\n",
       "end_lat                      float64\n",
       "end_lng                      float64\n",
       "member_casual                 object\n",
       "ride_time                    float64\n",
       "month-day                     object\n",
       "weekday                        int64\n",
       "start_hour                     int64\n",
       "dtype: object"
      ]
     },
     "execution_count": 54,
     "metadata": {},
     "output_type": "execute_result"
    }
   ],
   "source": [
    "transformed.dtypes"
   ]
  },
  {
   "cell_type": "code",
   "execution_count": null,
   "id": "7cef8dce",
   "metadata": {},
   "outputs": [],
   "source": []
  }
 ],
 "metadata": {
  "kernelspec": {
   "display_name": "Python 3 (ipykernel)",
   "language": "python",
   "name": "python3"
  },
  "language_info": {
   "codemirror_mode": {
    "name": "ipython",
    "version": 3
   },
   "file_extension": ".py",
   "mimetype": "text/x-python",
   "name": "python",
   "nbconvert_exporter": "python",
   "pygments_lexer": "ipython3",
   "version": "3.10.4"
  }
 },
 "nbformat": 4,
 "nbformat_minor": 5
}
