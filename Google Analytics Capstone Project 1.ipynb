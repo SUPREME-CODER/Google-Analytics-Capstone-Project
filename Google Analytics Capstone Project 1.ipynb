{
 "cells": [
  {
   "cell_type": "code",
   "execution_count": 1,
   "id": "db71d68d",
   "metadata": {},
   "outputs": [],
   "source": [
    "import pandas as pd\n",
    "import matplotlib.pyplot as mp\n",
    "import numpy as np\n",
    "import seaborn as sns\n",
    "import plotly.express as px\n",
    "import os\n",
    "\n",
    "%matplotlib inline"
   ]
  },
  {
   "cell_type": "code",
   "execution_count": 2,
   "id": "5383ef6a",
   "metadata": {},
   "outputs": [
    {
     "name": "stdout",
     "output_type": "stream",
     "text": [
      "Reading Data\\Extracted\\202004-divvy-tripdata.csv data\n",
      "Reading Data\\Extracted\\202005-divvy-tripdata.csv data\n",
      "Reading Data\\Extracted\\202006-divvy-tripdata.csv data\n",
      "Reading Data\\Extracted\\202007-divvy-tripdata.csv data\n"
     ]
    }
   ],
   "source": [
    "directory = r'Data\\Extracted'\n",
    "transformed = pd.DataFrame()\n",
    "\n",
    "i = 0\n",
    "for filename in os.listdir(directory):\n",
    "    f = os.path.join(directory, filename)\n",
    "    \n",
    "    print(r'Reading {} data'.format(f))\n",
    "    transformed = pd.concat([transformed, pd.read_csv(f)], axis=0, ignore_index=True)\n",
    "    i += 1\n",
    "    \n",
    "    if i == 4:\n",
    "        break"
   ]
  },
  {
   "cell_type": "code",
   "execution_count": 4,
   "id": "327d282b",
   "metadata": {},
   "outputs": [
    {
     "data": {
      "text/plain": [
       "(1179535, 13)"
      ]
     },
     "execution_count": 4,
     "metadata": {},
     "output_type": "execute_result"
    }
   ],
   "source": [
    "transformed.shape"
   ]
  },
  {
   "cell_type": "code",
   "execution_count": 16,
   "id": "cb4156a8",
   "metadata": {},
   "outputs": [
    {
     "data": {
      "text/plain": [
       "10219381"
      ]
     },
     "execution_count": 16,
     "metadata": {},
     "output_type": "execute_result"
    }
   ],
   "source": [
    "84777 + 200275 + 343006 + 551458 + 622362 + 532959 + 388645 + 259717 + 131574 + 96835 + 49623 + 228497 + 337231 + 531634 + 729596 + 822411 + 804353 + 756148 + 631227 + 359979 + 247541 + 103771 + 115610 + 284043 + 371250 + 634859"
   ]
  },
  {
   "cell_type": "code",
   "execution_count": 5,
   "id": "16ef3df9",
   "metadata": {},
   "outputs": [],
   "source": [
    "def transform_data(df):\n",
    "\n",
    "    # Removal of duplicate rows\n",
    "    prev_rows = df.shape[0]\n",
    "    df.drop_duplicates(subset=['ride_id'], inplace=True)\n",
    "    print(prev_rows - df.shape[0], ' rows removed!')\n",
    "    \n",
    "    # Change datetime formats started_at, ended_at\n",
    "    df['started_at'] = pd.to_datetime(df['started_at'], format= '%Y-%m-%d %H:%M:%S')\n",
    "    df['ended_at'] = pd.to_datetime(df['ended_at'], format= '%Y-%m-%d %H:%M:%S')\n",
    "    print('Formats of the dates have been modified.')\n",
    "    \n",
    "    # Convert that time in minutes\n",
    "    df['ride_time'] = round(((df['ended_at'] - df['started_at']).dt.total_seconds()) / 60)\n",
    "    print('Ride time has been calculated.')\n",
    "\n",
    "    # Get year and month into one column\n",
    "    df['year_month'] = df['started_at'].dt.year.astype(str) + ' - ' + df['started_at'].dt.month.astype(str)\n",
    "    print('Calculated the starting month and day.')\n",
    "    \n",
    "    # Get the day of the week (Mon - 0, Tue - 1, ..., Sun - 6)\n",
    "    df['weekday'] = df['started_at'].dt.weekday\n",
    "    print('Calculated starting weekday.')\n",
    "    \n",
    "    # Get the start hour of the ride\n",
    "    df['start_hour'] = df['started_at'].dt.hour\n",
    "    print('Calculated start hour.')\n",
    "    \n",
    "    # Save the dataframe\n",
    "    df.to_csv(r'Data\\Transformed\\Transformed.csv', index = False, encoding='utf-8')\n",
    "    print('Transformed Data Saved Successfully.')\n"
   ]
  },
  {
   "cell_type": "code",
   "execution_count": 6,
   "id": "0ff496f5",
   "metadata": {},
   "outputs": [
    {
     "name": "stdout",
     "output_type": "stream",
     "text": [
      "0  rows removed!\n",
      "Formats of the dates have been modified.\n",
      "Ride time has been calculated.\n",
      "Calculated the starting month and day.\n",
      "Calculated starting weekday.\n",
      "Calculated start hour.\n",
      "Transformed Data Saved Successfully.\n"
     ]
    }
   ],
   "source": [
    "transform_data(transformed)"
   ]
  },
  {
   "cell_type": "code",
   "execution_count": 16,
   "id": "58a74024",
   "metadata": {
    "collapsed": true
   },
   "outputs": [
    {
     "data": {
      "text/plain": [
       "ride_id                       object\n",
       "rideable_type                 object\n",
       "started_at            datetime64[ns]\n",
       "ended_at              datetime64[ns]\n",
       "start_station_name            object\n",
       "start_station_id              object\n",
       "end_station_name              object\n",
       "end_station_id                object\n",
       "start_lat                    float64\n",
       "start_lng                    float64\n",
       "end_lat                      float64\n",
       "end_lng                      float64\n",
       "member_casual                 object\n",
       "ride_time                    float64\n",
       "year_month                    object\n",
       "weekday                        int64\n",
       "start_hour                     int64\n",
       "dtype: object"
      ]
     },
     "execution_count": 16,
     "metadata": {},
     "output_type": "execute_result"
    }
   ],
   "source": [
    "transformed.dtypes"
   ]
  },
  {
   "cell_type": "code",
   "execution_count": 2,
   "id": "7cef8dce",
   "metadata": {},
   "outputs": [],
   "source": [
    "data = pd.read_csv(r\"Data\\Transformed\\Transformed.csv\")"
   ]
  },
  {
   "cell_type": "code",
   "execution_count": 5,
   "id": "ebb7f361",
   "metadata": {},
   "outputs": [
    {
     "data": {
      "text/html": [
       "<div>\n",
       "<style scoped>\n",
       "    .dataframe tbody tr th:only-of-type {\n",
       "        vertical-align: middle;\n",
       "    }\n",
       "\n",
       "    .dataframe tbody tr th {\n",
       "        vertical-align: top;\n",
       "    }\n",
       "\n",
       "    .dataframe thead th {\n",
       "        text-align: right;\n",
       "    }\n",
       "</style>\n",
       "<table border=\"1\" class=\"dataframe\">\n",
       "  <thead>\n",
       "    <tr style=\"text-align: right;\">\n",
       "      <th></th>\n",
       "      <th>ride_id</th>\n",
       "      <th>rideable_type</th>\n",
       "      <th>started_at</th>\n",
       "      <th>ended_at</th>\n",
       "      <th>start_station_name</th>\n",
       "      <th>start_station_id</th>\n",
       "      <th>end_station_name</th>\n",
       "      <th>end_station_id</th>\n",
       "      <th>start_lat</th>\n",
       "      <th>start_lng</th>\n",
       "      <th>end_lat</th>\n",
       "      <th>end_lng</th>\n",
       "      <th>member_casual</th>\n",
       "      <th>ride_time</th>\n",
       "      <th>year_month</th>\n",
       "      <th>weekday</th>\n",
       "      <th>start_hour</th>\n",
       "    </tr>\n",
       "  </thead>\n",
       "  <tbody>\n",
       "    <tr>\n",
       "      <th>0</th>\n",
       "      <td>A847FADBBC638E45</td>\n",
       "      <td>docked_bike</td>\n",
       "      <td>2020-04-26 17:45:14</td>\n",
       "      <td>2020-04-26 18:12:03</td>\n",
       "      <td>Eckhart Park</td>\n",
       "      <td>86.0</td>\n",
       "      <td>Lincoln Ave &amp; Diversey Pkwy</td>\n",
       "      <td>152.0</td>\n",
       "      <td>41.8964</td>\n",
       "      <td>-87.6610</td>\n",
       "      <td>41.9322</td>\n",
       "      <td>-87.6586</td>\n",
       "      <td>member</td>\n",
       "      <td>27.0</td>\n",
       "      <td>2020 - 4</td>\n",
       "      <td>6</td>\n",
       "      <td>17</td>\n",
       "    </tr>\n",
       "    <tr>\n",
       "      <th>1</th>\n",
       "      <td>5405B80E996FF60D</td>\n",
       "      <td>docked_bike</td>\n",
       "      <td>2020-04-17 17:08:54</td>\n",
       "      <td>2020-04-17 17:17:03</td>\n",
       "      <td>Drake Ave &amp; Fullerton Ave</td>\n",
       "      <td>503.0</td>\n",
       "      <td>Kosciuszko Park</td>\n",
       "      <td>499.0</td>\n",
       "      <td>41.9244</td>\n",
       "      <td>-87.7154</td>\n",
       "      <td>41.9306</td>\n",
       "      <td>-87.7238</td>\n",
       "      <td>member</td>\n",
       "      <td>8.0</td>\n",
       "      <td>2020 - 4</td>\n",
       "      <td>4</td>\n",
       "      <td>17</td>\n",
       "    </tr>\n",
       "    <tr>\n",
       "      <th>2</th>\n",
       "      <td>5DD24A79A4E006F4</td>\n",
       "      <td>docked_bike</td>\n",
       "      <td>2020-04-01 17:54:13</td>\n",
       "      <td>2020-04-01 18:08:36</td>\n",
       "      <td>McClurg Ct &amp; Erie St</td>\n",
       "      <td>142.0</td>\n",
       "      <td>Indiana Ave &amp; Roosevelt Rd</td>\n",
       "      <td>255.0</td>\n",
       "      <td>41.8945</td>\n",
       "      <td>-87.6179</td>\n",
       "      <td>41.8679</td>\n",
       "      <td>-87.6230</td>\n",
       "      <td>member</td>\n",
       "      <td>14.0</td>\n",
       "      <td>2020 - 4</td>\n",
       "      <td>2</td>\n",
       "      <td>17</td>\n",
       "    </tr>\n",
       "    <tr>\n",
       "      <th>3</th>\n",
       "      <td>2A59BBDF5CDBA725</td>\n",
       "      <td>docked_bike</td>\n",
       "      <td>2020-04-07 12:50:19</td>\n",
       "      <td>2020-04-07 13:02:31</td>\n",
       "      <td>California Ave &amp; Division St</td>\n",
       "      <td>216.0</td>\n",
       "      <td>Wood St &amp; Augusta Blvd</td>\n",
       "      <td>657.0</td>\n",
       "      <td>41.9030</td>\n",
       "      <td>-87.6975</td>\n",
       "      <td>41.8992</td>\n",
       "      <td>-87.6722</td>\n",
       "      <td>member</td>\n",
       "      <td>12.0</td>\n",
       "      <td>2020 - 4</td>\n",
       "      <td>1</td>\n",
       "      <td>12</td>\n",
       "    </tr>\n",
       "    <tr>\n",
       "      <th>4</th>\n",
       "      <td>27AD306C119C6158</td>\n",
       "      <td>docked_bike</td>\n",
       "      <td>2020-04-18 10:22:59</td>\n",
       "      <td>2020-04-18 11:15:54</td>\n",
       "      <td>Rush St &amp; Hubbard St</td>\n",
       "      <td>125.0</td>\n",
       "      <td>Sheridan Rd &amp; Lawrence Ave</td>\n",
       "      <td>323.0</td>\n",
       "      <td>41.8902</td>\n",
       "      <td>-87.6262</td>\n",
       "      <td>41.9695</td>\n",
       "      <td>-87.6547</td>\n",
       "      <td>casual</td>\n",
       "      <td>53.0</td>\n",
       "      <td>2020 - 4</td>\n",
       "      <td>5</td>\n",
       "      <td>10</td>\n",
       "    </tr>\n",
       "  </tbody>\n",
       "</table>\n",
       "</div>"
      ],
      "text/plain": [
       "            ride_id rideable_type           started_at             ended_at  \\\n",
       "0  A847FADBBC638E45   docked_bike  2020-04-26 17:45:14  2020-04-26 18:12:03   \n",
       "1  5405B80E996FF60D   docked_bike  2020-04-17 17:08:54  2020-04-17 17:17:03   \n",
       "2  5DD24A79A4E006F4   docked_bike  2020-04-01 17:54:13  2020-04-01 18:08:36   \n",
       "3  2A59BBDF5CDBA725   docked_bike  2020-04-07 12:50:19  2020-04-07 13:02:31   \n",
       "4  27AD306C119C6158   docked_bike  2020-04-18 10:22:59  2020-04-18 11:15:54   \n",
       "\n",
       "             start_station_name  start_station_id  \\\n",
       "0                  Eckhart Park              86.0   \n",
       "1     Drake Ave & Fullerton Ave             503.0   \n",
       "2          McClurg Ct & Erie St             142.0   \n",
       "3  California Ave & Division St             216.0   \n",
       "4          Rush St & Hubbard St             125.0   \n",
       "\n",
       "              end_station_name  end_station_id  start_lat  start_lng  end_lat  \\\n",
       "0  Lincoln Ave & Diversey Pkwy           152.0    41.8964   -87.6610  41.9322   \n",
       "1              Kosciuszko Park           499.0    41.9244   -87.7154  41.9306   \n",
       "2   Indiana Ave & Roosevelt Rd           255.0    41.8945   -87.6179  41.8679   \n",
       "3       Wood St & Augusta Blvd           657.0    41.9030   -87.6975  41.8992   \n",
       "4   Sheridan Rd & Lawrence Ave           323.0    41.8902   -87.6262  41.9695   \n",
       "\n",
       "   end_lng member_casual  ride_time year_month  weekday  start_hour  \n",
       "0 -87.6586        member       27.0   2020 - 4        6          17  \n",
       "1 -87.7238        member        8.0   2020 - 4        4          17  \n",
       "2 -87.6230        member       14.0   2020 - 4        2          17  \n",
       "3 -87.6722        member       12.0   2020 - 4        1          12  \n",
       "4 -87.6547        casual       53.0   2020 - 4        5          10  "
      ]
     },
     "execution_count": 5,
     "metadata": {},
     "output_type": "execute_result"
    }
   ],
   "source": [
    "data.head()"
   ]
  },
  {
   "cell_type": "code",
   "execution_count": 4,
   "id": "ba4c2297",
   "metadata": {},
   "outputs": [
    {
     "data": {
      "text/plain": [
       "(1179535, 17)"
      ]
     },
     "execution_count": 4,
     "metadata": {},
     "output_type": "execute_result"
    }
   ],
   "source": [
    "data.shape"
   ]
  },
  {
   "cell_type": "code",
   "execution_count": 11,
   "id": "9e2acc3a",
   "metadata": {},
   "outputs": [
    {
     "data": {
      "text/plain": [
       "[Text(0.5, 0, 'Member Types'), Text(0, 0.5, 'Count')]"
      ]
     },
     "execution_count": 11,
     "metadata": {},
     "output_type": "execute_result"
    },
    {
     "data": {
      "image/png": "[encoded data removed]",
      "text/plain": [
       "<Figure size 720x504 with 1 Axes>"
      ]
     },
     "metadata": {
      "needs_background": "light"
     },
     "output_type": "display_data"
    }
   ],
   "source": [
    "mp.figure(figsize=(10,7))\n",
    "mp.style.use(\"fivethirtyeight\")\n",
    "\n",
    "font = {'family' : 'cambria',\n",
    "        'weight' : 'bold',\n",
    "        'size'   : 15}\n",
    "\n",
    "mp.rc('font', **font)\n",
    "\n",
    "count_plot = data[\"member_casual\"].value_counts().plot.bar(rot=0)\n",
    "count_plot.tick_params(color=\"black\")\n",
    "count_plot.set(xlabel=\"Member Types\", ylabel=\"Count\")"
   ]
  },
  {
   "cell_type": "markdown",
   "id": "f41e8c97",
   "metadata": {},
   "source": [
    "[Aggregate Pandas DataFrame with Condition using NamedAgg](https://stackoverflow.com/questions/65409213/aggregate-pandas-dataframe-with-condition-using-namedagg)\n",
    "\n",
    "[Rarely Used Pandas Tricks](https://towardsdatascience.com/4-rarely-used-yet-very-useful-pandas-tricks-b43ef4b726fb)"
   ]
  },
  {
   "cell_type": "code",
   "execution_count": 30,
   "id": "e06c9f88",
   "metadata": {},
   "outputs": [],
   "source": [
    "group_data = data.groupby(['year_month'], as_index=False).agg(\n",
    "    ride_count = pd.NamedAgg(column='ride_id', aggfunc='count'),\n",
    "    ride_percentage = pd.NamedAgg('ride_id', lambda x:(x.count()/data['ride_id'].count())*100),\n",
    "    members_c = pd.NamedAgg('member_casual', lambda x: ((x == 'member').sum())),\n",
    "    casual_c = pd.NamedAgg('member_casual', lambda x: ((x == 'casual').sum())),\n",
    "    members_p = pd.NamedAgg('member_casual', lambda x: ((x == 'member').sum()/x.count())*100),\n",
    "    casual_p = pd.NamedAgg('member_casual', lambda x: ((x == 'casual').sum()/x.count())*100))\n",
    "\n",
    "group_data['mem_cas_p_diff'] = group_data['members_p'] - group_data['casual_p']\n",
    "group_data['mem_cas_c_diff'] = group_data['members_c'] - group_data['casual_c']"
   ]
  },
  {
   "cell_type": "code",
   "execution_count": 31,
   "id": "2234cbfb",
   "metadata": {},
   "outputs": [
    {
     "data": {
      "text/html": [
       "<div>\n",
       "<style scoped>\n",
       "    .dataframe tbody tr th:only-of-type {\n",
       "        vertical-align: middle;\n",
       "    }\n",
       "\n",
       "    .dataframe tbody tr th {\n",
       "        vertical-align: top;\n",
       "    }\n",
       "\n",
       "    .dataframe thead th {\n",
       "        text-align: right;\n",
       "    }\n",
       "</style>\n",
       "<table border=\"1\" class=\"dataframe\">\n",
       "  <thead>\n",
       "    <tr style=\"text-align: right;\">\n",
       "      <th></th>\n",
       "      <th>year_month</th>\n",
       "      <th>ride_count</th>\n",
       "      <th>ride_percentage</th>\n",
       "      <th>members_c</th>\n",
       "      <th>casual_c</th>\n",
       "      <th>members_p</th>\n",
       "      <th>casual_p</th>\n",
       "      <th>mem_cas_p_diff</th>\n",
       "      <th>mem_cas_c_diff</th>\n",
       "    </tr>\n",
       "  </thead>\n",
       "  <tbody>\n",
       "    <tr>\n",
       "      <th>0</th>\n",
       "      <td>2020 - 4</td>\n",
       "      <td>84776</td>\n",
       "      <td>7.187239</td>\n",
       "      <td>61148</td>\n",
       "      <td>23628</td>\n",
       "      <td>72.128904</td>\n",
       "      <td>27.871096</td>\n",
       "      <td>44.257809</td>\n",
       "      <td>37520</td>\n",
       "    </tr>\n",
       "    <tr>\n",
       "      <th>1</th>\n",
       "      <td>2020 - 5</td>\n",
       "      <td>200274</td>\n",
       "      <td>16.979064</td>\n",
       "      <td>113365</td>\n",
       "      <td>86909</td>\n",
       "      <td>56.604951</td>\n",
       "      <td>43.395049</td>\n",
       "      <td>13.209902</td>\n",
       "      <td>26456</td>\n",
       "    </tr>\n",
       "    <tr>\n",
       "      <th>2</th>\n",
       "      <td>2020 - 6</td>\n",
       "      <td>343005</td>\n",
       "      <td>29.079680</td>\n",
       "      <td>188287</td>\n",
       "      <td>154718</td>\n",
       "      <td>54.893369</td>\n",
       "      <td>45.106631</td>\n",
       "      <td>9.786738</td>\n",
       "      <td>33569</td>\n",
       "    </tr>\n",
       "    <tr>\n",
       "      <th>3</th>\n",
       "      <td>2020 - 7</td>\n",
       "      <td>551480</td>\n",
       "      <td>46.754017</td>\n",
       "      <td>282184</td>\n",
       "      <td>269296</td>\n",
       "      <td>51.168492</td>\n",
       "      <td>48.831508</td>\n",
       "      <td>2.336984</td>\n",
       "      <td>12888</td>\n",
       "    </tr>\n",
       "  </tbody>\n",
       "</table>\n",
       "</div>"
      ],
      "text/plain": [
       "  year_month  ride_count  ride_percentage  members_c  casual_c  members_p  \\\n",
       "0   2020 - 4       84776         7.187239      61148     23628  72.128904   \n",
       "1   2020 - 5      200274        16.979064     113365     86909  56.604951   \n",
       "2   2020 - 6      343005        29.079680     188287    154718  54.893369   \n",
       "3   2020 - 7      551480        46.754017     282184    269296  51.168492   \n",
       "\n",
       "    casual_p  mem_cas_p_diff  mem_cas_c_diff  \n",
       "0  27.871096       44.257809           37520  \n",
       "1  43.395049       13.209902           26456  \n",
       "2  45.106631        9.786738           33569  \n",
       "3  48.831508        2.336984           12888  "
      ]
     },
     "execution_count": 31,
     "metadata": {},
     "output_type": "execute_result"
    }
   ],
   "source": [
    "group_data.head()"
   ]
  },
  {
   "cell_type": "code",
   "execution_count": 48,
   "id": "690b9835",
   "metadata": {},
   "outputs": [
    {
     "data": {
      "text/plain": [
       "<Figure size 1080x1080 with 0 Axes>"
      ]
     },
     "metadata": {},
     "output_type": "display_data"
    },
    {
     "data": {
      "image/png": "[encoded data removed]",
      "text/plain": [
       "<Figure size 432x288 with 1 Axes>"
      ]
     },
     "metadata": {},
     "output_type": "display_data"
    }
   ],
   "source": [
    "_ = mp.figure(figsize=(15,15))\n",
    "_ = mp.style.use(\"fivethirtyeight\")\n",
    "\n",
    "font = {'family' : 'cambria',\n",
    "        'weight' : 'bold',\n",
    "        'size'   : 12}\n",
    "\n",
    "mp.rc('font', **font)\n",
    "\n",
    "ax = group_data[['year_month', 'members_c', 'casual_c']].plot(kind='barh', stacked=True, color=['red', 'blue'])\n",
    "ax.set_yticklabels(group_data['year_month'])\n",
    "_ = mp.xlabel('Ride Count')\n",
    "_ = mp.ylabel('Year-Month')\n",
    "_ = mp.title('Distribution by month')"
   ]
  },
  {
   "cell_type": "code",
   "execution_count": 50,
   "id": "3979f0d4",
   "metadata": {},
   "outputs": [],
   "source": [
    "group_data_by_week_day = data.groupby(['weekday'], as_index=False).agg(\n",
    "    ride_count = pd.NamedAgg(column='ride_id', aggfunc='count'),\n",
    "    ride_percentage = pd.NamedAgg('ride_id', lambda x:(x.count()/data['ride_id'].count())*100),\n",
    "    members_c = pd.NamedAgg('member_casual', lambda x: ((x == 'member').sum())),\n",
    "    casual_c = pd.NamedAgg('member_casual', lambda x: ((x == 'casual').sum())),\n",
    "    members_p = pd.NamedAgg('member_casual', lambda x: ((x == 'member').sum()/x.count())*100),\n",
    "    casual_p = pd.NamedAgg('member_casual', lambda x: ((x == 'casual').sum()/x.count())*100))\n",
    "\n",
    "group_data_by_week_day['mem_cas_p_diff'] = group_data_by_week_day['members_p'] - group_data_by_week_day['casual_p']\n",
    "group_data_by_week_day['mem_cas_c_diff'] = group_data_by_week_day['members_c'] - group_data_by_week_day['casual_c']"
   ]
  },
  {
   "cell_type": "code",
   "execution_count": 53,
   "id": "81912574",
   "metadata": {},
   "outputs": [
    {
     "data": {
      "text/html": [
       "<div>\n",
       "<style scoped>\n",
       "    .dataframe tbody tr th:only-of-type {\n",
       "        vertical-align: middle;\n",
       "    }\n",
       "\n",
       "    .dataframe tbody tr th {\n",
       "        vertical-align: top;\n",
       "    }\n",
       "\n",
       "    .dataframe thead th {\n",
       "        text-align: right;\n",
       "    }\n",
       "</style>\n",
       "<table border=\"1\" class=\"dataframe\">\n",
       "  <thead>\n",
       "    <tr style=\"text-align: right;\">\n",
       "      <th></th>\n",
       "      <th>weekday</th>\n",
       "      <th>ride_count</th>\n",
       "      <th>ride_percentage</th>\n",
       "      <th>members_c</th>\n",
       "      <th>casual_c</th>\n",
       "      <th>members_p</th>\n",
       "      <th>casual_p</th>\n",
       "      <th>mem_cas_p_diff</th>\n",
       "      <th>mem_cas_c_diff</th>\n",
       "    </tr>\n",
       "  </thead>\n",
       "  <tbody>\n",
       "    <tr>\n",
       "      <th>0</th>\n",
       "      <td>0</td>\n",
       "      <td>133922</td>\n",
       "      <td>11.353796</td>\n",
       "      <td>78437</td>\n",
       "      <td>55485</td>\n",
       "      <td>58.569167</td>\n",
       "      <td>41.430833</td>\n",
       "      <td>17.138334</td>\n",
       "      <td>22952</td>\n",
       "    </tr>\n",
       "    <tr>\n",
       "      <th>1</th>\n",
       "      <td>1</td>\n",
       "      <td>138533</td>\n",
       "      <td>11.744713</td>\n",
       "      <td>83840</td>\n",
       "      <td>54693</td>\n",
       "      <td>60.519876</td>\n",
       "      <td>39.480124</td>\n",
       "      <td>21.039752</td>\n",
       "      <td>29147</td>\n",
       "    </tr>\n",
       "    <tr>\n",
       "      <th>2</th>\n",
       "      <td>2</td>\n",
       "      <td>147297</td>\n",
       "      <td>12.487718</td>\n",
       "      <td>89669</td>\n",
       "      <td>57628</td>\n",
       "      <td>60.876325</td>\n",
       "      <td>39.123675</td>\n",
       "      <td>21.752649</td>\n",
       "      <td>32041</td>\n",
       "    </tr>\n",
       "    <tr>\n",
       "      <th>3</th>\n",
       "      <td>3</td>\n",
       "      <td>166402</td>\n",
       "      <td>14.107424</td>\n",
       "      <td>98356</td>\n",
       "      <td>68046</td>\n",
       "      <td>59.107463</td>\n",
       "      <td>40.892537</td>\n",
       "      <td>18.214925</td>\n",
       "      <td>30310</td>\n",
       "    </tr>\n",
       "    <tr>\n",
       "      <th>4</th>\n",
       "      <td>4</td>\n",
       "      <td>185622</td>\n",
       "      <td>15.736879</td>\n",
       "      <td>101650</td>\n",
       "      <td>83972</td>\n",
       "      <td>54.761828</td>\n",
       "      <td>45.238172</td>\n",
       "      <td>9.523656</td>\n",
       "      <td>17678</td>\n",
       "    </tr>\n",
       "    <tr>\n",
       "      <th>5</th>\n",
       "      <td>5</td>\n",
       "      <td>224672</td>\n",
       "      <td>19.047506</td>\n",
       "      <td>105855</td>\n",
       "      <td>118817</td>\n",
       "      <td>47.115350</td>\n",
       "      <td>52.884650</td>\n",
       "      <td>-5.769299</td>\n",
       "      <td>-12962</td>\n",
       "    </tr>\n",
       "    <tr>\n",
       "      <th>6</th>\n",
       "      <td>6</td>\n",
       "      <td>183087</td>\n",
       "      <td>15.521964</td>\n",
       "      <td>87177</td>\n",
       "      <td>95910</td>\n",
       "      <td>47.615068</td>\n",
       "      <td>52.384932</td>\n",
       "      <td>-4.769864</td>\n",
       "      <td>-8733</td>\n",
       "    </tr>\n",
       "  </tbody>\n",
       "</table>\n",
       "</div>"
      ],
      "text/plain": [
       "   weekday  ride_count  ride_percentage  members_c  casual_c  members_p  \\\n",
       "0        0      133922        11.353796      78437     55485  58.569167   \n",
       "1        1      138533        11.744713      83840     54693  60.519876   \n",
       "2        2      147297        12.487718      89669     57628  60.876325   \n",
       "3        3      166402        14.107424      98356     68046  59.107463   \n",
       "4        4      185622        15.736879     101650     83972  54.761828   \n",
       "5        5      224672        19.047506     105855    118817  47.115350   \n",
       "6        6      183087        15.521964      87177     95910  47.615068   \n",
       "\n",
       "    casual_p  mem_cas_p_diff  mem_cas_c_diff  \n",
       "0  41.430833       17.138334           22952  \n",
       "1  39.480124       21.039752           29147  \n",
       "2  39.123675       21.752649           32041  \n",
       "3  40.892537       18.214925           30310  \n",
       "4  45.238172        9.523656           17678  \n",
       "5  52.884650       -5.769299          -12962  \n",
       "6  52.384932       -4.769864           -8733  "
      ]
     },
     "execution_count": 53,
     "metadata": {},
     "output_type": "execute_result"
    }
   ],
   "source": [
    "group_data_by_week_day"
   ]
  },
  {
   "cell_type": "code",
   "execution_count": 70,
   "id": "605a4234",
   "metadata": {
    "scrolled": false
   },
   "outputs": [
    {
     "data": {
      "text/plain": [
       "<Figure size 1080x1080 with 0 Axes>"
      ]
     },
     "metadata": {},
     "output_type": "display_data"
    },
    {
     "data": {
      "image/png": "[encoded data removed]",
      "text/plain": [
       "<Figure size 936x576 with 1 Axes>"
      ]
     },
     "metadata": {},
     "output_type": "display_data"
    }
   ],
   "source": [
    "_ = mp.figure(figsize=(15,15))\n",
    "_ = mp.style.use(\"fivethirtyeight\")\n",
    "\n",
    "font = {'family' : 'cambria',\n",
    "        'size'   : 12}\n",
    "\n",
    "mp.rc('font', **font)\n",
    "\n",
    "ax = group_data_by_week_day[['weekday', 'members_c', 'casual_c']].plot(kind='barh', stacked=True, color=['red', 'yellow'], figsize=(13,8))\n",
    "ax.set_yticklabels(['Monday', 'Tuesday', 'Wednesday', 'Thursday', 'Friday', 'Saturday', 'Sunday'])\n",
    "_ = mp.xticks(np.arange(0, 300000, 25000))\n",
    "_ = mp.xlabel('Ride Count')\n",
    "_ = mp.ylabel('Weekday')\n",
    "_ = mp.title('Distribution by Weekday')\n",
    "_ = mp.legend([\"member\", \"casual\"])"
   ]
  },
  {
   "cell_type": "markdown",
   "id": "89008154",
   "metadata": {},
   "source": [
    "0 - Monday   ||    1 - Tuesday   ||    2 - Wednesday   ||    3 - Thursday   ||    4 - Friday   ||    5 - Saturday   ||    6 - Sunday"
   ]
  },
  {
   "cell_type": "markdown",
   "id": "24f89b4d",
   "metadata": {},
   "source": [
    "Most Rides are on the weekend. Members have the most rides during weekend.\n",
    "\n",
    "Saturday has most rides.\n",
    "\n",
    "During weekdays, casuals have most rides.\n",
    "\n",
    "Weekends have the most rides of casual, highest being friday."
   ]
  },
  {
   "cell_type": "code",
   "execution_count": 3,
   "id": "6ed66de7",
   "metadata": {},
   "outputs": [],
   "source": [
    "group_data_by_start_hour = data.groupby(['start_hour'], as_index=False).agg(\n",
    "    ride_count = pd.NamedAgg(column='ride_id', aggfunc='count'),\n",
    "    ride_percentage = pd.NamedAgg('ride_id', lambda x:(x.count()/data['ride_id'].count())*100),\n",
    "    members_c = pd.NamedAgg('member_casual', lambda x: ((x == 'member').sum())),\n",
    "    casual_c = pd.NamedAgg('member_casual', lambda x: ((x == 'casual').sum())),\n",
    "    members_p = pd.NamedAgg('member_casual', lambda x: ((x == 'member').sum()/x.count())*100),\n",
    "    casual_p = pd.NamedAgg('member_casual', lambda x: ((x == 'casual').sum()/x.count())*100))\n",
    "\n",
    "group_data_by_start_hour['mem_cas_p_diff'] = group_data_by_start_hour['members_p'] - group_data_by_start_hour['casual_p']\n",
    "group_data_by_start_hour['mem_cas_c_diff'] = group_data_by_start_hour['members_c'] - group_data_by_start_hour['casual_c']"
   ]
  },
  {
   "cell_type": "code",
   "execution_count": 7,
   "id": "7ce82db1",
   "metadata": {},
   "outputs": [
    {
     "data": {
      "text/html": [
       "<div>\n",
       "<style scoped>\n",
       "    .dataframe tbody tr th:only-of-type {\n",
       "        vertical-align: middle;\n",
       "    }\n",
       "\n",
       "    .dataframe tbody tr th {\n",
       "        vertical-align: top;\n",
       "    }\n",
       "\n",
       "    .dataframe thead th {\n",
       "        text-align: right;\n",
       "    }\n",
       "</style>\n",
       "<table border=\"1\" class=\"dataframe\">\n",
       "  <thead>\n",
       "    <tr style=\"text-align: right;\">\n",
       "      <th></th>\n",
       "      <th>start_hour</th>\n",
       "      <th>ride_count</th>\n",
       "      <th>ride_percentage</th>\n",
       "      <th>members_c</th>\n",
       "      <th>casual_c</th>\n",
       "      <th>members_p</th>\n",
       "      <th>casual_p</th>\n",
       "      <th>mem_cas_p_diff</th>\n",
       "      <th>mem_cas_c_diff</th>\n",
       "    </tr>\n",
       "  </thead>\n",
       "  <tbody>\n",
       "    <tr>\n",
       "      <th>0</th>\n",
       "      <td>0</td>\n",
       "      <td>12339</td>\n",
       "      <td>1.046090</td>\n",
       "      <td>3368</td>\n",
       "      <td>8971</td>\n",
       "      <td>27.295567</td>\n",
       "      <td>72.704433</td>\n",
       "      <td>-45.408866</td>\n",
       "      <td>-5603</td>\n",
       "    </tr>\n",
       "    <tr>\n",
       "      <th>1</th>\n",
       "      <td>1</td>\n",
       "      <td>7445</td>\n",
       "      <td>0.631181</td>\n",
       "      <td>1859</td>\n",
       "      <td>5586</td>\n",
       "      <td>24.969778</td>\n",
       "      <td>75.030222</td>\n",
       "      <td>-50.060443</td>\n",
       "      <td>-3727</td>\n",
       "    </tr>\n",
       "    <tr>\n",
       "      <th>2</th>\n",
       "      <td>2</td>\n",
       "      <td>4374</td>\n",
       "      <td>0.370824</td>\n",
       "      <td>1040</td>\n",
       "      <td>3334</td>\n",
       "      <td>23.776863</td>\n",
       "      <td>76.223137</td>\n",
       "      <td>-52.446273</td>\n",
       "      <td>-2294</td>\n",
       "    </tr>\n",
       "    <tr>\n",
       "      <th>3</th>\n",
       "      <td>3</td>\n",
       "      <td>2400</td>\n",
       "      <td>0.203470</td>\n",
       "      <td>702</td>\n",
       "      <td>1698</td>\n",
       "      <td>29.250000</td>\n",
       "      <td>70.750000</td>\n",
       "      <td>-41.500000</td>\n",
       "      <td>-996</td>\n",
       "    </tr>\n",
       "    <tr>\n",
       "      <th>4</th>\n",
       "      <td>4</td>\n",
       "      <td>2257</td>\n",
       "      <td>0.191347</td>\n",
       "      <td>1038</td>\n",
       "      <td>1219</td>\n",
       "      <td>45.990253</td>\n",
       "      <td>54.009747</td>\n",
       "      <td>-8.019495</td>\n",
       "      <td>-181</td>\n",
       "    </tr>\n",
       "  </tbody>\n",
       "</table>\n",
       "</div>"
      ],
      "text/plain": [
       "   start_hour  ride_count  ride_percentage  members_c  casual_c  members_p  \\\n",
       "0           0       12339         1.046090       3368      8971  27.295567   \n",
       "1           1        7445         0.631181       1859      5586  24.969778   \n",
       "2           2        4374         0.370824       1040      3334  23.776863   \n",
       "3           3        2400         0.203470        702      1698  29.250000   \n",
       "4           4        2257         0.191347       1038      1219  45.990253   \n",
       "\n",
       "    casual_p  mem_cas_p_diff  mem_cas_c_diff  \n",
       "0  72.704433      -45.408866           -5603  \n",
       "1  75.030222      -50.060443           -3727  \n",
       "2  76.223137      -52.446273           -2294  \n",
       "3  70.750000      -41.500000            -996  \n",
       "4  54.009747       -8.019495            -181  "
      ]
     },
     "execution_count": 7,
     "metadata": {},
     "output_type": "execute_result"
    }
   ],
   "source": [
    "group_data_by_start_hour.head()"
   ]
  },
  {
   "cell_type": "code",
   "execution_count": 51,
   "id": "63da228d",
   "metadata": {
    "collapsed": true
   },
   "outputs": [
    {
     "data": {
      "text/plain": [
       "<Figure size 1080x1080 with 0 Axes>"
      ]
     },
     "metadata": {},
     "output_type": "display_data"
    },
    {
     "data": {
      "image/png": "[encoded data removed]",
      "text/plain": [
       "<Figure size 936x720 with 1 Axes>"
      ]
     },
     "metadata": {},
     "output_type": "display_data"
    }
   ],
   "source": [
    "_ = mp.figure(figsize=(15,15))\n",
    "_ = mp.style.use(\"fivethirtyeight\")\n",
    "\n",
    "font = {'family' : 'cambria',\n",
    "        'size'   : 12}\n",
    "\n",
    "mp.rc('font', **font)\n",
    "\n",
    "ax = group_data_by_start_hour[['start_hour', 'members_c', 'casual_c']].plot(kind='barh', stacked=True, color=['red', 'blue'], figsize=(13,10), label=['Members', 'Casual'])\n",
    "ax.set_yticklabels(group_data_by_start_hour['start_hour'])\n",
    "_ = mp.xticks(np.arange(0, 150000, 20000))\n",
    "_ = mp.xlabel('Ride Count')\n",
    "_ = mp.ylabel('Start-Hour')\n",
    "_ = mp.title('Distribution by Start-Hour')\n",
    "# _ = mp.legend()"
   ]
  },
  {
   "cell_type": "code",
   "execution_count": 18,
   "id": "c30fe4fa",
   "metadata": {},
   "outputs": [
    {
     "data": {
      "text/plain": [
       "<Figure size 1080x1080 with 0 Axes>"
      ]
     },
     "metadata": {},
     "output_type": "display_data"
    },
    {
     "data": {
      "image/png": "[encoded data removed]",
      "text/plain": [
       "<Figure size 1080x720 with 1 Axes>"
      ]
     },
     "metadata": {},
     "output_type": "display_data"
    }
   ],
   "source": [
    "_ = mp.figure(figsize=(15,15))\n",
    "_ = mp.style.use(\"fivethirtyeight\")\n",
    "\n",
    "font = {'family' : 'cambria',\n",
    "        'size'   : 12}\n",
    "\n",
    "mp.rc('font', **font)\n",
    "\n",
    "start_hour_data = pd.DataFrame(group_data_by_start_hour, columns=['members_c','casual_c'], index = group_data_by_start_hour['start_hour'])\n",
    "\n",
    "start_hour_data.plot.barh(stacked=True, figsize=(15, 10), color=['red', 'blue'])\n",
    "\n",
    "_ = mp.yticks(group_data_by_start_hour['start_hour'])\n",
    "_ = mp.title('Distribution by Start-Hour')\n",
    "_ = mp.ylabel('Ride Time')\n",
    "_ = mp.xlabel('Start hour')\n",
    "# plt.show()"
   ]
  },
  {
   "cell_type": "markdown",
   "id": "e0702a70",
   "metadata": {},
   "source": [
    "Sharp increase in the number of rides in the afternoon till early night.\n",
    "\n",
    "The number of members is more as compared to the casuals in early morning.\n",
    "\n",
    "For the rest of the day the number of casuals and members seem almost the same."
   ]
  },
  {
   "cell_type": "code",
   "execution_count": 8,
   "id": "5bd7ad3b",
   "metadata": {
    "collapsed": true
   },
   "outputs": [
    {
     "data": {
      "text/plain": [
       "<seaborn.axisgrid.FacetGrid at 0x1fb9b583e20>"
      ]
     },
     "execution_count": 8,
     "metadata": {},
     "output_type": "execute_result"
    },
    {
     "data": {
      "image/png": "[encoded data removed]",
      "text/plain": [
       "<Figure size 1512x1512 with 7 Axes>"
      ]
     },
     "metadata": {
      "needs_background": "light"
     },
     "output_type": "display_data"
    }
   ],
   "source": [
    "g = sns.FacetGrid(data, col=\"weekday\", height=7, aspect = 1, col_wrap=3, hue='member_casual', legend_out=True)\n",
    "g.map(sns.histplot, \"start_hour\")"
   ]
  },
  {
   "cell_type": "markdown",
   "id": "cf4c3d99",
   "metadata": {},
   "source": [
    "[subplots_adjust](https://matplotlib.org/stable/api/_as_gen/matplotlib.pyplot.subplots_adjust.html)\n",
    "\n",
    "[Plotting multiple columns from datafram using df.plot](https://www.geeksforgeeks.org/how-to-plot-multiple-data-columns-in-a-dataframe/)"
   ]
  },
  {
   "cell_type": "code",
   "execution_count": 50,
   "id": "1128a133",
   "metadata": {},
   "outputs": [
    {
     "data": {
      "text/plain": [
       "Text(0.5, 0.98, 'Distribution by Start Hour by Weekday')"
      ]
     },
     "execution_count": 50,
     "metadata": {},
     "output_type": "execute_result"
    },
    {
     "data": {
      "text/plain": [
       "<Figure size 3600x3600 with 0 Axes>"
      ]
     },
     "metadata": {},
     "output_type": "display_data"
    },
    {
     "data": {
      "image/png": "[encoded data removed]",
      "text/plain": [
       "<Figure size 1440x1440 with 7 Axes>"
      ]
     },
     "metadata": {},
     "output_type": "display_data"
    }
   ],
   "source": [
    "_ = mp.figure(figsize=(50,50))\n",
    "_ = mp.style.use(\"fivethirtyeight\")\n",
    "\n",
    "font = {'family' : 'cambria', 'size'   : 13}\n",
    "mp.rc('font', **font)\n",
    "\n",
    "weekdays = {0 : 'Monday' , 1 : 'Tuesday' , 2 : 'Wednesday' , 3 : 'Thursday' , 4 : 'Friday' , 5 : 'Saturday' , 6 : 'Sunday'}\n",
    "day = 0\n",
    "\n",
    "fig, axs = mp.subplots(3, 3)\n",
    "mp.subplots_adjust(top=0.9, wspace=0.2, hspace=0.5)\n",
    "\n",
    "for i in range(3):\n",
    "    for j in range(3):\n",
    "        if day > 6:\n",
    "            fig.delaxes(axs[i][j])\n",
    "        else:\n",
    "            curr_data = data[data['weekday'] == day]\n",
    "\n",
    "            week_data_by_start_hour = curr_data.groupby(['start_hour'], as_index=False).agg(\n",
    "                members_c = pd.NamedAgg('member_casual', lambda x: ((x == 'member').sum())),\n",
    "                casual_c = pd.NamedAgg('member_casual', lambda x: ((x == 'casual').sum())))\n",
    "\n",
    "            _ = week_data_by_start_hour.plot(x = 'start_hour', y = ['members_c', 'casual_c'], kind='bar', stacked=True, color=['red', 'blue'], figsize=(20,20), ax=axs[i,j], label=['Members', 'Casual'])\n",
    "            _ = axs[i, j].set_title(f'{weekdays[day]}')\n",
    "            _ = axs[i, j].legend()\n",
    "\n",
    "            day += 1\n",
    "        \n",
    "mp.suptitle(\"Distribution by Start Hour by Weekday\")\n"
   ]
  },
  {
   "cell_type": "markdown",
   "id": "1ebd950a",
   "metadata": {},
   "source": [
    "There seems to be a difference between the rides distribution on the weekdays **(Monday to Friday)** and weekends **(Saturday and Sunday)**."
   ]
  },
  {
   "cell_type": "code",
   "execution_count": 3,
   "id": "c3c0367f",
   "metadata": {
    "collapsed": true
   },
   "outputs": [
    {
     "data": {
      "text/html": [
       "<div>\n",
       "<style scoped>\n",
       "    .dataframe tbody tr th:only-of-type {\n",
       "        vertical-align: middle;\n",
       "    }\n",
       "\n",
       "    .dataframe tbody tr th {\n",
       "        vertical-align: top;\n",
       "    }\n",
       "\n",
       "    .dataframe thead th {\n",
       "        text-align: right;\n",
       "    }\n",
       "</style>\n",
       "<table border=\"1\" class=\"dataframe\">\n",
       "  <thead>\n",
       "    <tr style=\"text-align: right;\">\n",
       "      <th></th>\n",
       "      <th>ride_id</th>\n",
       "      <th>rideable_type</th>\n",
       "      <th>started_at</th>\n",
       "      <th>ended_at</th>\n",
       "      <th>start_station_name</th>\n",
       "      <th>start_station_id</th>\n",
       "      <th>end_station_name</th>\n",
       "      <th>end_station_id</th>\n",
       "      <th>start_lat</th>\n",
       "      <th>start_lng</th>\n",
       "      <th>end_lat</th>\n",
       "      <th>end_lng</th>\n",
       "      <th>member_casual</th>\n",
       "      <th>ride_time</th>\n",
       "      <th>year_month</th>\n",
       "      <th>weekday</th>\n",
       "      <th>start_hour</th>\n",
       "      <th>type_of_weekday</th>\n",
       "    </tr>\n",
       "  </thead>\n",
       "  <tbody>\n",
       "    <tr>\n",
       "      <th>0</th>\n",
       "      <td>A847FADBBC638E45</td>\n",
       "      <td>docked_bike</td>\n",
       "      <td>2020-04-26 17:45:14</td>\n",
       "      <td>2020-04-26 18:12:03</td>\n",
       "      <td>Eckhart Park</td>\n",
       "      <td>86.0</td>\n",
       "      <td>Lincoln Ave &amp; Diversey Pkwy</td>\n",
       "      <td>152.0</td>\n",
       "      <td>41.8964</td>\n",
       "      <td>-87.6610</td>\n",
       "      <td>41.9322</td>\n",
       "      <td>-87.6586</td>\n",
       "      <td>member</td>\n",
       "      <td>27.0</td>\n",
       "      <td>2020 - 4</td>\n",
       "      <td>6</td>\n",
       "      <td>17</td>\n",
       "      <td>Weekend</td>\n",
       "    </tr>\n",
       "    <tr>\n",
       "      <th>1</th>\n",
       "      <td>5405B80E996FF60D</td>\n",
       "      <td>docked_bike</td>\n",
       "      <td>2020-04-17 17:08:54</td>\n",
       "      <td>2020-04-17 17:17:03</td>\n",
       "      <td>Drake Ave &amp; Fullerton Ave</td>\n",
       "      <td>503.0</td>\n",
       "      <td>Kosciuszko Park</td>\n",
       "      <td>499.0</td>\n",
       "      <td>41.9244</td>\n",
       "      <td>-87.7154</td>\n",
       "      <td>41.9306</td>\n",
       "      <td>-87.7238</td>\n",
       "      <td>member</td>\n",
       "      <td>8.0</td>\n",
       "      <td>2020 - 4</td>\n",
       "      <td>4</td>\n",
       "      <td>17</td>\n",
       "      <td>Midweek</td>\n",
       "    </tr>\n",
       "    <tr>\n",
       "      <th>2</th>\n",
       "      <td>5DD24A79A4E006F4</td>\n",
       "      <td>docked_bike</td>\n",
       "      <td>2020-04-01 17:54:13</td>\n",
       "      <td>2020-04-01 18:08:36</td>\n",
       "      <td>McClurg Ct &amp; Erie St</td>\n",
       "      <td>142.0</td>\n",
       "      <td>Indiana Ave &amp; Roosevelt Rd</td>\n",
       "      <td>255.0</td>\n",
       "      <td>41.8945</td>\n",
       "      <td>-87.6179</td>\n",
       "      <td>41.8679</td>\n",
       "      <td>-87.6230</td>\n",
       "      <td>member</td>\n",
       "      <td>14.0</td>\n",
       "      <td>2020 - 4</td>\n",
       "      <td>2</td>\n",
       "      <td>17</td>\n",
       "      <td>Midweek</td>\n",
       "    </tr>\n",
       "    <tr>\n",
       "      <th>3</th>\n",
       "      <td>2A59BBDF5CDBA725</td>\n",
       "      <td>docked_bike</td>\n",
       "      <td>2020-04-07 12:50:19</td>\n",
       "      <td>2020-04-07 13:02:31</td>\n",
       "      <td>California Ave &amp; Division St</td>\n",
       "      <td>216.0</td>\n",
       "      <td>Wood St &amp; Augusta Blvd</td>\n",
       "      <td>657.0</td>\n",
       "      <td>41.9030</td>\n",
       "      <td>-87.6975</td>\n",
       "      <td>41.8992</td>\n",
       "      <td>-87.6722</td>\n",
       "      <td>member</td>\n",
       "      <td>12.0</td>\n",
       "      <td>2020 - 4</td>\n",
       "      <td>1</td>\n",
       "      <td>12</td>\n",
       "      <td>Midweek</td>\n",
       "    </tr>\n",
       "    <tr>\n",
       "      <th>4</th>\n",
       "      <td>27AD306C119C6158</td>\n",
       "      <td>docked_bike</td>\n",
       "      <td>2020-04-18 10:22:59</td>\n",
       "      <td>2020-04-18 11:15:54</td>\n",
       "      <td>Rush St &amp; Hubbard St</td>\n",
       "      <td>125.0</td>\n",
       "      <td>Sheridan Rd &amp; Lawrence Ave</td>\n",
       "      <td>323.0</td>\n",
       "      <td>41.8902</td>\n",
       "      <td>-87.6262</td>\n",
       "      <td>41.9695</td>\n",
       "      <td>-87.6547</td>\n",
       "      <td>casual</td>\n",
       "      <td>53.0</td>\n",
       "      <td>2020 - 4</td>\n",
       "      <td>5</td>\n",
       "      <td>10</td>\n",
       "      <td>Weekend</td>\n",
       "    </tr>\n",
       "  </tbody>\n",
       "</table>\n",
       "</div>"
      ],
      "text/plain": [
       "            ride_id rideable_type           started_at             ended_at  \\\n",
       "0  A847FADBBC638E45   docked_bike  2020-04-26 17:45:14  2020-04-26 18:12:03   \n",
       "1  5405B80E996FF60D   docked_bike  2020-04-17 17:08:54  2020-04-17 17:17:03   \n",
       "2  5DD24A79A4E006F4   docked_bike  2020-04-01 17:54:13  2020-04-01 18:08:36   \n",
       "3  2A59BBDF5CDBA725   docked_bike  2020-04-07 12:50:19  2020-04-07 13:02:31   \n",
       "4  27AD306C119C6158   docked_bike  2020-04-18 10:22:59  2020-04-18 11:15:54   \n",
       "\n",
       "             start_station_name  start_station_id  \\\n",
       "0                  Eckhart Park              86.0   \n",
       "1     Drake Ave & Fullerton Ave             503.0   \n",
       "2          McClurg Ct & Erie St             142.0   \n",
       "3  California Ave & Division St             216.0   \n",
       "4          Rush St & Hubbard St             125.0   \n",
       "\n",
       "              end_station_name  end_station_id  start_lat  start_lng  end_lat  \\\n",
       "0  Lincoln Ave & Diversey Pkwy           152.0    41.8964   -87.6610  41.9322   \n",
       "1              Kosciuszko Park           499.0    41.9244   -87.7154  41.9306   \n",
       "2   Indiana Ave & Roosevelt Rd           255.0    41.8945   -87.6179  41.8679   \n",
       "3       Wood St & Augusta Blvd           657.0    41.9030   -87.6975  41.8992   \n",
       "4   Sheridan Rd & Lawrence Ave           323.0    41.8902   -87.6262  41.9695   \n",
       "\n",
       "   end_lng member_casual  ride_time year_month  weekday  start_hour  \\\n",
       "0 -87.6586        member       27.0   2020 - 4        6          17   \n",
       "1 -87.7238        member        8.0   2020 - 4        4          17   \n",
       "2 -87.6230        member       14.0   2020 - 4        2          17   \n",
       "3 -87.6722        member       12.0   2020 - 4        1          12   \n",
       "4 -87.6547        casual       53.0   2020 - 4        5          10   \n",
       "\n",
       "  type_of_weekday  \n",
       "0         Weekend  \n",
       "1         Midweek  \n",
       "2         Midweek  \n",
       "3         Midweek  \n",
       "4         Weekend  "
      ]
     },
     "execution_count": 3,
     "metadata": {},
     "output_type": "execute_result"
    }
   ],
   "source": [
    "data['type_of_weekday'] = np.where(data['weekday'] < 5, 'Midweek', 'Weekend')\n",
    "data.head()"
   ]
  },
  {
   "cell_type": "code",
   "execution_count": 14,
   "id": "1bc01cfe",
   "metadata": {},
   "outputs": [],
   "source": [
    "midweek_data = data[data['type_of_weekday'] == 'Midweek']\n",
    "weekend_data = data[data['type_of_weekday'] == 'Weekend']\n",
    "\n",
    "midweek_data_by_start_hour = midweek_data.groupby(['start_hour'], as_index=False).agg(\n",
    "    members_c = pd.NamedAgg('member_casual', lambda x: ((x == 'member').sum())),\n",
    "    casual_c = pd.NamedAgg('member_casual', lambda x: ((x == 'casual').sum())))\n",
    "\n",
    "weekend_data_by_start_hour = weekend_data.groupby(['start_hour'], as_index=False).agg(\n",
    "    members_c = pd.NamedAgg('member_casual', lambda x: ((x == 'member').sum())),\n",
    "    casual_c = pd.NamedAgg('member_casual', lambda x: ((x == 'casual').sum())))\n"
   ]
  },
  {
   "cell_type": "code",
   "execution_count": 34,
   "id": "e1f739c1",
   "metadata": {
    "collapsed": true
   },
   "outputs": [
    {
     "data": {
      "text/html": [
       "<div>\n",
       "<style scoped>\n",
       "    .dataframe tbody tr th:only-of-type {\n",
       "        vertical-align: middle;\n",
       "    }\n",
       "\n",
       "    .dataframe tbody tr th {\n",
       "        vertical-align: top;\n",
       "    }\n",
       "\n",
       "    .dataframe thead th {\n",
       "        text-align: right;\n",
       "    }\n",
       "</style>\n",
       "<table border=\"1\" class=\"dataframe\">\n",
       "  <thead>\n",
       "    <tr style=\"text-align: right;\">\n",
       "      <th></th>\n",
       "      <th>start_hour</th>\n",
       "      <th>members_c</th>\n",
       "      <th>casual_c</th>\n",
       "    </tr>\n",
       "  </thead>\n",
       "  <tbody>\n",
       "    <tr>\n",
       "      <th>0</th>\n",
       "      <td>0</td>\n",
       "      <td>1553</td>\n",
       "      <td>4525</td>\n",
       "    </tr>\n",
       "    <tr>\n",
       "      <th>1</th>\n",
       "      <td>1</td>\n",
       "      <td>783</td>\n",
       "      <td>2550</td>\n",
       "    </tr>\n",
       "    <tr>\n",
       "      <th>2</th>\n",
       "      <td>2</td>\n",
       "      <td>469</td>\n",
       "      <td>1526</td>\n",
       "    </tr>\n",
       "    <tr>\n",
       "      <th>3</th>\n",
       "      <td>3</td>\n",
       "      <td>384</td>\n",
       "      <td>787</td>\n",
       "    </tr>\n",
       "    <tr>\n",
       "      <th>4</th>\n",
       "      <td>4</td>\n",
       "      <td>747</td>\n",
       "      <td>653</td>\n",
       "    </tr>\n",
       "    <tr>\n",
       "      <th>5</th>\n",
       "      <td>5</td>\n",
       "      <td>4619</td>\n",
       "      <td>1391</td>\n",
       "    </tr>\n",
       "    <tr>\n",
       "      <th>6</th>\n",
       "      <td>6</td>\n",
       "      <td>14945</td>\n",
       "      <td>3509</td>\n",
       "    </tr>\n",
       "    <tr>\n",
       "      <th>7</th>\n",
       "      <td>7</td>\n",
       "      <td>23070</td>\n",
       "      <td>6049</td>\n",
       "    </tr>\n",
       "    <tr>\n",
       "      <th>8</th>\n",
       "      <td>8</td>\n",
       "      <td>23575</td>\n",
       "      <td>7478</td>\n",
       "    </tr>\n",
       "    <tr>\n",
       "      <th>9</th>\n",
       "      <td>9</td>\n",
       "      <td>17638</td>\n",
       "      <td>8282</td>\n",
       "    </tr>\n",
       "    <tr>\n",
       "      <th>10</th>\n",
       "      <td>10</td>\n",
       "      <td>16836</td>\n",
       "      <td>10537</td>\n",
       "    </tr>\n",
       "    <tr>\n",
       "      <th>11</th>\n",
       "      <td>11</td>\n",
       "      <td>21154</td>\n",
       "      <td>14156</td>\n",
       "    </tr>\n",
       "    <tr>\n",
       "      <th>12</th>\n",
       "      <td>12</td>\n",
       "      <td>25842</td>\n",
       "      <td>17517</td>\n",
       "    </tr>\n",
       "    <tr>\n",
       "      <th>13</th>\n",
       "      <td>13</td>\n",
       "      <td>24941</td>\n",
       "      <td>18757</td>\n",
       "    </tr>\n",
       "    <tr>\n",
       "      <th>14</th>\n",
       "      <td>14</td>\n",
       "      <td>24725</td>\n",
       "      <td>20039</td>\n",
       "    </tr>\n",
       "    <tr>\n",
       "      <th>15</th>\n",
       "      <td>15</td>\n",
       "      <td>29336</td>\n",
       "      <td>22556</td>\n",
       "    </tr>\n",
       "    <tr>\n",
       "      <th>16</th>\n",
       "      <td>16</td>\n",
       "      <td>39384</td>\n",
       "      <td>26695</td>\n",
       "    </tr>\n",
       "    <tr>\n",
       "      <th>17</th>\n",
       "      <td>17</td>\n",
       "      <td>52829</td>\n",
       "      <td>35259</td>\n",
       "    </tr>\n",
       "    <tr>\n",
       "      <th>18</th>\n",
       "      <td>18</td>\n",
       "      <td>48505</td>\n",
       "      <td>35056</td>\n",
       "    </tr>\n",
       "    <tr>\n",
       "      <th>19</th>\n",
       "      <td>19</td>\n",
       "      <td>34979</td>\n",
       "      <td>27804</td>\n",
       "    </tr>\n",
       "    <tr>\n",
       "      <th>20</th>\n",
       "      <td>20</td>\n",
       "      <td>21455</td>\n",
       "      <td>19943</td>\n",
       "    </tr>\n",
       "    <tr>\n",
       "      <th>21</th>\n",
       "      <td>21</td>\n",
       "      <td>11984</td>\n",
       "      <td>14061</td>\n",
       "    </tr>\n",
       "    <tr>\n",
       "      <th>22</th>\n",
       "      <td>22</td>\n",
       "      <td>7399</td>\n",
       "      <td>11678</td>\n",
       "    </tr>\n",
       "    <tr>\n",
       "      <th>23</th>\n",
       "      <td>23</td>\n",
       "      <td>4800</td>\n",
       "      <td>9016</td>\n",
       "    </tr>\n",
       "  </tbody>\n",
       "</table>\n",
       "</div>"
      ],
      "text/plain": [
       "    start_hour  members_c  casual_c\n",
       "0            0       1553      4525\n",
       "1            1        783      2550\n",
       "2            2        469      1526\n",
       "3            3        384       787\n",
       "4            4        747       653\n",
       "5            5       4619      1391\n",
       "6            6      14945      3509\n",
       "7            7      23070      6049\n",
       "8            8      23575      7478\n",
       "9            9      17638      8282\n",
       "10          10      16836     10537\n",
       "11          11      21154     14156\n",
       "12          12      25842     17517\n",
       "13          13      24941     18757\n",
       "14          14      24725     20039\n",
       "15          15      29336     22556\n",
       "16          16      39384     26695\n",
       "17          17      52829     35259\n",
       "18          18      48505     35056\n",
       "19          19      34979     27804\n",
       "20          20      21455     19943\n",
       "21          21      11984     14061\n",
       "22          22       7399     11678\n",
       "23          23       4800      9016"
      ]
     },
     "execution_count": 34,
     "metadata": {},
     "output_type": "execute_result"
    }
   ],
   "source": [
    "midweek_data_by_start_hour"
   ]
  },
  {
   "cell_type": "code",
   "execution_count": 35,
   "id": "891b3b03",
   "metadata": {
    "collapsed": true
   },
   "outputs": [
    {
     "data": {
      "text/html": [
       "<div>\n",
       "<style scoped>\n",
       "    .dataframe tbody tr th:only-of-type {\n",
       "        vertical-align: middle;\n",
       "    }\n",
       "\n",
       "    .dataframe tbody tr th {\n",
       "        vertical-align: top;\n",
       "    }\n",
       "\n",
       "    .dataframe thead th {\n",
       "        text-align: right;\n",
       "    }\n",
       "</style>\n",
       "<table border=\"1\" class=\"dataframe\">\n",
       "  <thead>\n",
       "    <tr style=\"text-align: right;\">\n",
       "      <th></th>\n",
       "      <th>start_hour</th>\n",
       "      <th>members_c</th>\n",
       "      <th>casual_c</th>\n",
       "    </tr>\n",
       "  </thead>\n",
       "  <tbody>\n",
       "    <tr>\n",
       "      <th>0</th>\n",
       "      <td>0</td>\n",
       "      <td>1815</td>\n",
       "      <td>4446</td>\n",
       "    </tr>\n",
       "    <tr>\n",
       "      <th>1</th>\n",
       "      <td>1</td>\n",
       "      <td>1076</td>\n",
       "      <td>3036</td>\n",
       "    </tr>\n",
       "    <tr>\n",
       "      <th>2</th>\n",
       "      <td>2</td>\n",
       "      <td>571</td>\n",
       "      <td>1808</td>\n",
       "    </tr>\n",
       "    <tr>\n",
       "      <th>3</th>\n",
       "      <td>3</td>\n",
       "      <td>318</td>\n",
       "      <td>911</td>\n",
       "    </tr>\n",
       "    <tr>\n",
       "      <th>4</th>\n",
       "      <td>4</td>\n",
       "      <td>291</td>\n",
       "      <td>566</td>\n",
       "    </tr>\n",
       "    <tr>\n",
       "      <th>5</th>\n",
       "      <td>5</td>\n",
       "      <td>671</td>\n",
       "      <td>542</td>\n",
       "    </tr>\n",
       "    <tr>\n",
       "      <th>6</th>\n",
       "      <td>6</td>\n",
       "      <td>2055</td>\n",
       "      <td>921</td>\n",
       "    </tr>\n",
       "    <tr>\n",
       "      <th>7</th>\n",
       "      <td>7</td>\n",
       "      <td>3413</td>\n",
       "      <td>1666</td>\n",
       "    </tr>\n",
       "    <tr>\n",
       "      <th>8</th>\n",
       "      <td>8</td>\n",
       "      <td>5452</td>\n",
       "      <td>3095</td>\n",
       "    </tr>\n",
       "    <tr>\n",
       "      <th>9</th>\n",
       "      <td>9</td>\n",
       "      <td>8246</td>\n",
       "      <td>5524</td>\n",
       "    </tr>\n",
       "    <tr>\n",
       "      <th>10</th>\n",
       "      <td>10</td>\n",
       "      <td>11477</td>\n",
       "      <td>9400</td>\n",
       "    </tr>\n",
       "    <tr>\n",
       "      <th>11</th>\n",
       "      <td>11</td>\n",
       "      <td>14370</td>\n",
       "      <td>13408</td>\n",
       "    </tr>\n",
       "    <tr>\n",
       "      <th>12</th>\n",
       "      <td>12</td>\n",
       "      <td>16656</td>\n",
       "      <td>16694</td>\n",
       "    </tr>\n",
       "    <tr>\n",
       "      <th>13</th>\n",
       "      <td>13</td>\n",
       "      <td>17770</td>\n",
       "      <td>19284</td>\n",
       "    </tr>\n",
       "    <tr>\n",
       "      <th>14</th>\n",
       "      <td>14</td>\n",
       "      <td>18616</td>\n",
       "      <td>20090</td>\n",
       "    </tr>\n",
       "    <tr>\n",
       "      <th>15</th>\n",
       "      <td>15</td>\n",
       "      <td>17785</td>\n",
       "      <td>19921</td>\n",
       "    </tr>\n",
       "    <tr>\n",
       "      <th>16</th>\n",
       "      <td>16</td>\n",
       "      <td>16532</td>\n",
       "      <td>18882</td>\n",
       "    </tr>\n",
       "    <tr>\n",
       "      <th>17</th>\n",
       "      <td>17</td>\n",
       "      <td>15362</td>\n",
       "      <td>17407</td>\n",
       "    </tr>\n",
       "    <tr>\n",
       "      <th>18</th>\n",
       "      <td>18</td>\n",
       "      <td>13735</td>\n",
       "      <td>15777</td>\n",
       "    </tr>\n",
       "    <tr>\n",
       "      <th>19</th>\n",
       "      <td>19</td>\n",
       "      <td>10845</td>\n",
       "      <td>13826</td>\n",
       "    </tr>\n",
       "    <tr>\n",
       "      <th>20</th>\n",
       "      <td>20</td>\n",
       "      <td>7234</td>\n",
       "      <td>10349</td>\n",
       "    </tr>\n",
       "    <tr>\n",
       "      <th>21</th>\n",
       "      <td>21</td>\n",
       "      <td>4066</td>\n",
       "      <td>6768</td>\n",
       "    </tr>\n",
       "    <tr>\n",
       "      <th>22</th>\n",
       "      <td>22</td>\n",
       "      <td>2696</td>\n",
       "      <td>5470</td>\n",
       "    </tr>\n",
       "    <tr>\n",
       "      <th>23</th>\n",
       "      <td>23</td>\n",
       "      <td>1980</td>\n",
       "      <td>4936</td>\n",
       "    </tr>\n",
       "  </tbody>\n",
       "</table>\n",
       "</div>"
      ],
      "text/plain": [
       "    start_hour  members_c  casual_c\n",
       "0            0       1815      4446\n",
       "1            1       1076      3036\n",
       "2            2        571      1808\n",
       "3            3        318       911\n",
       "4            4        291       566\n",
       "5            5        671       542\n",
       "6            6       2055       921\n",
       "7            7       3413      1666\n",
       "8            8       5452      3095\n",
       "9            9       8246      5524\n",
       "10          10      11477      9400\n",
       "11          11      14370     13408\n",
       "12          12      16656     16694\n",
       "13          13      17770     19284\n",
       "14          14      18616     20090\n",
       "15          15      17785     19921\n",
       "16          16      16532     18882\n",
       "17          17      15362     17407\n",
       "18          18      13735     15777\n",
       "19          19      10845     13826\n",
       "20          20       7234     10349\n",
       "21          21       4066      6768\n",
       "22          22       2696      5470\n",
       "23          23       1980      4936"
      ]
     },
     "execution_count": 35,
     "metadata": {},
     "output_type": "execute_result"
    }
   ],
   "source": [
    "weekend_data_by_start_hour"
   ]
  },
  {
   "cell_type": "code",
   "execution_count": 33,
   "id": "3385f666",
   "metadata": {},
   "outputs": [
    {
     "data": {
      "text/plain": [
       "<Figure size 1080x576 with 0 Axes>"
      ]
     },
     "metadata": {},
     "output_type": "display_data"
    },
    {
     "data": {
      "image/png": "[encoded data removed]",
      "text/plain": [
       "<Figure size 1080x576 with 2 Axes>"
      ]
     },
     "metadata": {},
     "output_type": "display_data"
    }
   ],
   "source": [
    "_ = mp.figure(figsize=(15,8))\n",
    "_ = mp.style.use(\"fivethirtyeight\")\n",
    "\n",
    "font = {'family' : 'cambria', 'size'   : 13}\n",
    "mp.rc('font', **font)\n",
    "\n",
    "fig, (ax1, ax2) = mp.subplots(1, 2, sharey=True)\n",
    "mp.subplots_adjust(top=0.9, wspace=0.2, hspace=0.5)\n",
    "\n",
    "_ = midweek_data_by_start_hour.plot(x = 'start_hour', y = ['members_c', 'casual_c'], kind='bar', stacked=True, color=['red', 'blue'], figsize=(15,8), ax=ax1, label=['Members', 'Casual'])\n",
    "_ = ax1.set_title('Midweek')\n",
    "_ = ax1.legend()\n",
    "\n",
    "\n",
    "_ = weekend_data_by_start_hour.plot(x = 'start_hour', y = ['members_c', 'casual_c'], kind='bar', stacked=True, color=['red', 'blue'], figsize=(15,8), ax=ax2, label=['Members', 'Casual'])\n",
    "_ = ax2.set_title('Weekend')\n",
    "_ = ax2.legend()\n",
    "\n",
    "_ = mp.yticks(np.arange(0, 120000, 10000))\n",
    "_ = mp.suptitle(\"Distribution by Start Hour by Type of Weekday\")\n"
   ]
  },
  {
   "cell_type": "markdown",
   "id": "30f35072",
   "metadata": {},
   "source": [
    "The number of rides during weekdays is very high as compared to the weekends but this is just because the number of days included in the weekdays is 5 and for weekends is just 2.\n",
    "\n",
    "During the weekdays the member rides are very high as compared to the casuals.\n",
    "\n",
    "The member rides increase after 5 am and remain steady till around 3 pm and then again increase after 4 pm till 7 pm. (Maybe they are using it for their commute to work)\n",
    "\n",
    "\n",
    "During the weekends the casual rides are almost as same as member rides. (Maybe they are using it as a recreational activity)"
   ]
  },
  {
   "cell_type": "code",
   "execution_count": 36,
   "id": "e8f9ed75",
   "metadata": {},
   "outputs": [
    {
     "data": {
      "text/html": [
       "<div>\n",
       "<style scoped>\n",
       "    .dataframe tbody tr th:only-of-type {\n",
       "        vertical-align: middle;\n",
       "    }\n",
       "\n",
       "    .dataframe tbody tr th {\n",
       "        vertical-align: top;\n",
       "    }\n",
       "\n",
       "    .dataframe thead th {\n",
       "        text-align: right;\n",
       "    }\n",
       "</style>\n",
       "<table border=\"1\" class=\"dataframe\">\n",
       "  <thead>\n",
       "    <tr style=\"text-align: right;\">\n",
       "      <th></th>\n",
       "      <th>rideable_type</th>\n",
       "      <th>ride_count</th>\n",
       "      <th>ride_percentage</th>\n",
       "      <th>members_c</th>\n",
       "      <th>casual_c</th>\n",
       "      <th>members_p</th>\n",
       "      <th>casual_p</th>\n",
       "      <th>mem_cas_p_diff</th>\n",
       "      <th>mem_cas_c_diff</th>\n",
       "    </tr>\n",
       "  </thead>\n",
       "  <tbody>\n",
       "    <tr>\n",
       "      <th>0</th>\n",
       "      <td>docked_bike</td>\n",
       "      <td>1177600</td>\n",
       "      <td>99.835952</td>\n",
       "      <td>643889</td>\n",
       "      <td>533711</td>\n",
       "      <td>54.678074</td>\n",
       "      <td>45.321926</td>\n",
       "      <td>9.356148</td>\n",
       "      <td>110178</td>\n",
       "    </tr>\n",
       "    <tr>\n",
       "      <th>1</th>\n",
       "      <td>electric_bike</td>\n",
       "      <td>1935</td>\n",
       "      <td>0.164048</td>\n",
       "      <td>1095</td>\n",
       "      <td>840</td>\n",
       "      <td>56.589147</td>\n",
       "      <td>43.410853</td>\n",
       "      <td>13.178295</td>\n",
       "      <td>255</td>\n",
       "    </tr>\n",
       "  </tbody>\n",
       "</table>\n",
       "</div>"
      ],
      "text/plain": [
       "   rideable_type  ride_count  ride_percentage  members_c  casual_c  members_p  \\\n",
       "0    docked_bike     1177600        99.835952     643889    533711  54.678074   \n",
       "1  electric_bike        1935         0.164048       1095       840  56.589147   \n",
       "\n",
       "    casual_p  mem_cas_p_diff  mem_cas_c_diff  \n",
       "0  45.321926        9.356148          110178  \n",
       "1  43.410853       13.178295             255  "
      ]
     },
     "execution_count": 36,
     "metadata": {},
     "output_type": "execute_result"
    }
   ],
   "source": [
    "group_data_by_rideable_type = data.groupby(['rideable_type'], as_index=False).agg(\n",
    "    ride_count = pd.NamedAgg(column='ride_id', aggfunc='count'),\n",
    "    ride_percentage = pd.NamedAgg('ride_id', lambda x:(x.count()/data['ride_id'].count())*100),\n",
    "    members_c = pd.NamedAgg('member_casual', lambda x: ((x == 'member').sum())),\n",
    "    casual_c = pd.NamedAgg('member_casual', lambda x: ((x == 'casual').sum())),\n",
    "    members_p = pd.NamedAgg('member_casual', lambda x: ((x == 'member').sum()/x.count())*100),\n",
    "    casual_p = pd.NamedAgg('member_casual', lambda x: ((x == 'casual').sum()/x.count())*100))\n",
    "\n",
    "group_data_by_rideable_type['mem_cas_p_diff'] = group_data_by_rideable_type['members_p'] - group_data_by_rideable_type['casual_p']\n",
    "group_data_by_rideable_type['mem_cas_c_diff'] = group_data_by_rideable_type['members_c'] - group_data_by_rideable_type['casual_c']\n",
    "\n",
    "group_data_by_rideable_type"
   ]
  },
  {
   "cell_type": "code",
   "execution_count": 38,
   "id": "87b3a85c",
   "metadata": {},
   "outputs": [
    {
     "data": {
      "text/plain": [
       "docked_bike      1177600\n",
       "electric_bike       1935\n",
       "Name: rideable_type, dtype: int64"
      ]
     },
     "execution_count": 38,
     "metadata": {},
     "output_type": "execute_result"
    }
   ],
   "source": [
    "data['rideable_type'].value_counts()"
   ]
  },
  {
   "cell_type": "code",
   "execution_count": 50,
   "id": "6033e201",
   "metadata": {},
   "outputs": [
    {
     "data": {
      "text/plain": [
       "<Figure size 1080x1080 with 0 Axes>"
      ]
     },
     "metadata": {},
     "output_type": "display_data"
    },
    {
     "data": {
      "image/png": "[encoded data removed]",
      "text/plain": [
       "<Figure size 936x720 with 1 Axes>"
      ]
     },
     "metadata": {},
     "output_type": "display_data"
    }
   ],
   "source": [
    "_ = mp.figure(figsize=(15,15))\n",
    "\n",
    "ax = group_data_by_rideable_type[['rideable_type', 'members_c', 'casual_c']].plot(x='rideable_type', y = ['members_c', 'casual_c'], kind='bar', stacked=True, color=['red', 'blue'], figsize=(13,10), label=['Members', 'Casual'])\n",
    "ax.set_xticklabels(group_data_by_rideable_type['rideable_type'])\n",
    "_ = mp.yticks(np.arange(0, 1500000, 200000))\n",
    "_ = mp.ylabel('Ride Count')\n",
    "_ = mp.xlabel('Rideable Type')\n",
    "_ = mp.title('Distribution by Rideable Type')\n",
    "_ = mp.legend([\"member\", \"casual\"])"
   ]
  },
  {
   "cell_type": "markdown",
   "id": "60ebb047",
   "metadata": {},
   "source": [
    "Either most of the riders prefer the docked bike or most of the bikes owned by the company are docked bikes."
   ]
  },
  {
   "cell_type": "code",
   "execution_count": 33,
   "id": "2a4e7812",
   "metadata": {},
   "outputs": [
    {
     "data": {
      "text/html": [
       "<div>\n",
       "<style scoped>\n",
       "    .dataframe tbody tr th:only-of-type {\n",
       "        vertical-align: middle;\n",
       "    }\n",
       "\n",
       "    .dataframe tbody tr th {\n",
       "        vertical-align: top;\n",
       "    }\n",
       "\n",
       "    .dataframe thead th {\n",
       "        text-align: right;\n",
       "    }\n",
       "</style>\n",
       "<table border=\"1\" class=\"dataframe\">\n",
       "  <thead>\n",
       "    <tr style=\"text-align: right;\">\n",
       "      <th></th>\n",
       "      <th>0</th>\n",
       "    </tr>\n",
       "  </thead>\n",
       "  <tbody>\n",
       "    <tr>\n",
       "      <th>0</th>\n",
       "      <td>6.000</td>\n",
       "    </tr>\n",
       "    <tr>\n",
       "      <th>1</th>\n",
       "      <td>119.000</td>\n",
       "    </tr>\n",
       "    <tr>\n",
       "      <th>2</th>\n",
       "      <td>144.000</td>\n",
       "    </tr>\n",
       "    <tr>\n",
       "      <th>3</th>\n",
       "      <td>193.000</td>\n",
       "    </tr>\n",
       "    <tr>\n",
       "      <th>4</th>\n",
       "      <td>2531.699</td>\n",
       "    </tr>\n",
       "  </tbody>\n",
       "</table>\n",
       "</div>"
      ],
      "text/plain": [
       "          0\n",
       "0     6.000\n",
       "1   119.000\n",
       "2   144.000\n",
       "3   193.000\n",
       "4  2531.699"
      ]
     },
     "execution_count": 33,
     "metadata": {},
     "output_type": "execute_result"
    }
   ],
   "source": [
    "pd.DataFrame(np.percentile(data['ride_time'], [10, 97, 98, 99, 99.95]))"
   ]
  },
  {
   "cell_type": "code",
   "execution_count": 42,
   "id": "6792d1be",
   "metadata": {},
   "outputs": [
    {
     "data": {
      "text/plain": [
       "4612.677600000054"
      ]
     },
     "execution_count": 42,
     "metadata": {},
     "output_type": "execute_result"
    }
   ],
   "source": [
    "np.percentile(data['ride_time'], 99.97)"
   ]
  },
  {
   "cell_type": "code",
   "execution_count": 43,
   "id": "32e8bd51",
   "metadata": {},
   "outputs": [
    {
     "data": {
      "text/plain": [
       "4.0"
      ]
     },
     "execution_count": 43,
     "metadata": {},
     "output_type": "execute_result"
    }
   ],
   "source": [
    "np.percentile(data['ride_time'], 5)"
   ]
  },
  {
   "cell_type": "code",
   "execution_count": 5,
   "id": "ddc10a51",
   "metadata": {},
   "outputs": [
    {
     "name": "stdout",
     "output_type": "stream",
     "text": [
      "107018 rows removed\n"
     ]
    },
    {
     "data": {
      "text/html": [
       "<div>\n",
       "<style scoped>\n",
       "    .dataframe tbody tr th:only-of-type {\n",
       "        vertical-align: middle;\n",
       "    }\n",
       "\n",
       "    .dataframe tbody tr th {\n",
       "        vertical-align: top;\n",
       "    }\n",
       "\n",
       "    .dataframe thead th {\n",
       "        text-align: right;\n",
       "    }\n",
       "</style>\n",
       "<table border=\"1\" class=\"dataframe\">\n",
       "  <thead>\n",
       "    <tr style=\"text-align: right;\">\n",
       "      <th></th>\n",
       "      <th>ride_id</th>\n",
       "      <th>rideable_type</th>\n",
       "      <th>started_at</th>\n",
       "      <th>ended_at</th>\n",
       "      <th>start_station_name</th>\n",
       "      <th>start_station_id</th>\n",
       "      <th>end_station_name</th>\n",
       "      <th>end_station_id</th>\n",
       "      <th>start_lat</th>\n",
       "      <th>start_lng</th>\n",
       "      <th>end_lat</th>\n",
       "      <th>end_lng</th>\n",
       "      <th>member_casual</th>\n",
       "      <th>ride_time</th>\n",
       "      <th>year_month</th>\n",
       "      <th>weekday</th>\n",
       "      <th>start_hour</th>\n",
       "    </tr>\n",
       "  </thead>\n",
       "  <tbody>\n",
       "    <tr>\n",
       "      <th>0</th>\n",
       "      <td>A847FADBBC638E45</td>\n",
       "      <td>docked_bike</td>\n",
       "      <td>2020-04-26 17:45:14</td>\n",
       "      <td>2020-04-26 18:12:03</td>\n",
       "      <td>Eckhart Park</td>\n",
       "      <td>86.0</td>\n",
       "      <td>Lincoln Ave &amp; Diversey Pkwy</td>\n",
       "      <td>152.0</td>\n",
       "      <td>41.8964</td>\n",
       "      <td>-87.6610</td>\n",
       "      <td>41.9322</td>\n",
       "      <td>-87.6586</td>\n",
       "      <td>member</td>\n",
       "      <td>27.0</td>\n",
       "      <td>2020 - 4</td>\n",
       "      <td>6</td>\n",
       "      <td>17</td>\n",
       "    </tr>\n",
       "    <tr>\n",
       "      <th>1</th>\n",
       "      <td>5405B80E996FF60D</td>\n",
       "      <td>docked_bike</td>\n",
       "      <td>2020-04-17 17:08:54</td>\n",
       "      <td>2020-04-17 17:17:03</td>\n",
       "      <td>Drake Ave &amp; Fullerton Ave</td>\n",
       "      <td>503.0</td>\n",
       "      <td>Kosciuszko Park</td>\n",
       "      <td>499.0</td>\n",
       "      <td>41.9244</td>\n",
       "      <td>-87.7154</td>\n",
       "      <td>41.9306</td>\n",
       "      <td>-87.7238</td>\n",
       "      <td>member</td>\n",
       "      <td>8.0</td>\n",
       "      <td>2020 - 4</td>\n",
       "      <td>4</td>\n",
       "      <td>17</td>\n",
       "    </tr>\n",
       "    <tr>\n",
       "      <th>2</th>\n",
       "      <td>5DD24A79A4E006F4</td>\n",
       "      <td>docked_bike</td>\n",
       "      <td>2020-04-01 17:54:13</td>\n",
       "      <td>2020-04-01 18:08:36</td>\n",
       "      <td>McClurg Ct &amp; Erie St</td>\n",
       "      <td>142.0</td>\n",
       "      <td>Indiana Ave &amp; Roosevelt Rd</td>\n",
       "      <td>255.0</td>\n",
       "      <td>41.8945</td>\n",
       "      <td>-87.6179</td>\n",
       "      <td>41.8679</td>\n",
       "      <td>-87.6230</td>\n",
       "      <td>member</td>\n",
       "      <td>14.0</td>\n",
       "      <td>2020 - 4</td>\n",
       "      <td>2</td>\n",
       "      <td>17</td>\n",
       "    </tr>\n",
       "    <tr>\n",
       "      <th>3</th>\n",
       "      <td>2A59BBDF5CDBA725</td>\n",
       "      <td>docked_bike</td>\n",
       "      <td>2020-04-07 12:50:19</td>\n",
       "      <td>2020-04-07 13:02:31</td>\n",
       "      <td>California Ave &amp; Division St</td>\n",
       "      <td>216.0</td>\n",
       "      <td>Wood St &amp; Augusta Blvd</td>\n",
       "      <td>657.0</td>\n",
       "      <td>41.9030</td>\n",
       "      <td>-87.6975</td>\n",
       "      <td>41.8992</td>\n",
       "      <td>-87.6722</td>\n",
       "      <td>member</td>\n",
       "      <td>12.0</td>\n",
       "      <td>2020 - 4</td>\n",
       "      <td>1</td>\n",
       "      <td>12</td>\n",
       "    </tr>\n",
       "    <tr>\n",
       "      <th>4</th>\n",
       "      <td>27AD306C119C6158</td>\n",
       "      <td>docked_bike</td>\n",
       "      <td>2020-04-18 10:22:59</td>\n",
       "      <td>2020-04-18 11:15:54</td>\n",
       "      <td>Rush St &amp; Hubbard St</td>\n",
       "      <td>125.0</td>\n",
       "      <td>Sheridan Rd &amp; Lawrence Ave</td>\n",
       "      <td>323.0</td>\n",
       "      <td>41.8902</td>\n",
       "      <td>-87.6262</td>\n",
       "      <td>41.9695</td>\n",
       "      <td>-87.6547</td>\n",
       "      <td>casual</td>\n",
       "      <td>53.0</td>\n",
       "      <td>2020 - 4</td>\n",
       "      <td>5</td>\n",
       "      <td>10</td>\n",
       "    </tr>\n",
       "  </tbody>\n",
       "</table>\n",
       "</div>"
      ],
      "text/plain": [
       "            ride_id rideable_type           started_at             ended_at  \\\n",
       "0  A847FADBBC638E45   docked_bike  2020-04-26 17:45:14  2020-04-26 18:12:03   \n",
       "1  5405B80E996FF60D   docked_bike  2020-04-17 17:08:54  2020-04-17 17:17:03   \n",
       "2  5DD24A79A4E006F4   docked_bike  2020-04-01 17:54:13  2020-04-01 18:08:36   \n",
       "3  2A59BBDF5CDBA725   docked_bike  2020-04-07 12:50:19  2020-04-07 13:02:31   \n",
       "4  27AD306C119C6158   docked_bike  2020-04-18 10:22:59  2020-04-18 11:15:54   \n",
       "\n",
       "             start_station_name  start_station_id  \\\n",
       "0                  Eckhart Park              86.0   \n",
       "1     Drake Ave & Fullerton Ave             503.0   \n",
       "2          McClurg Ct & Erie St             142.0   \n",
       "3  California Ave & Division St             216.0   \n",
       "4          Rush St & Hubbard St             125.0   \n",
       "\n",
       "              end_station_name  end_station_id  start_lat  start_lng  end_lat  \\\n",
       "0  Lincoln Ave & Diversey Pkwy           152.0    41.8964   -87.6610  41.9322   \n",
       "1              Kosciuszko Park           499.0    41.9244   -87.7154  41.9306   \n",
       "2   Indiana Ave & Roosevelt Rd           255.0    41.8945   -87.6179  41.8679   \n",
       "3       Wood St & Augusta Blvd           657.0    41.9030   -87.6975  41.8992   \n",
       "4   Sheridan Rd & Lawrence Ave           323.0    41.8902   -87.6262  41.9695   \n",
       "\n",
       "   end_lng member_casual  ride_time year_month  weekday  start_hour  \n",
       "0 -87.6586        member       27.0   2020 - 4        6          17  \n",
       "1 -87.7238        member        8.0   2020 - 4        4          17  \n",
       "2 -87.6230        member       14.0   2020 - 4        2          17  \n",
       "3 -87.6722        member       12.0   2020 - 4        1          12  \n",
       "4 -87.6547        casual       53.0   2020 - 4        5          10  "
      ]
     },
     "execution_count": 5,
     "metadata": {},
     "output_type": "execute_result"
    }
   ],
   "source": [
    "fifth_percentile = np.percentile(data['ride_time'], 5)\n",
    "nintyfifth_percentile = np.percentile(data['ride_time'], 95)\n",
    "\n",
    "reduced_data = data[(fifth_percentile <= data['ride_time']) & (data['ride_time'] <= nintyfifth_percentile)]\n",
    "print(f\"{data.shape[0] - reduced_data.shape[0]} rows removed\")\n",
    "reduced_data.head()"
   ]
  },
  {
   "cell_type": "code",
   "execution_count": 6,
   "id": "f537d186",
   "metadata": {},
   "outputs": [
    {
     "data": {
      "text/html": [
       "<div>\n",
       "<style scoped>\n",
       "    .dataframe tbody tr th:only-of-type {\n",
       "        vertical-align: middle;\n",
       "    }\n",
       "\n",
       "    .dataframe tbody tr th {\n",
       "        vertical-align: top;\n",
       "    }\n",
       "\n",
       "    .dataframe thead th {\n",
       "        text-align: right;\n",
       "    }\n",
       "</style>\n",
       "<table border=\"1\" class=\"dataframe\">\n",
       "  <thead>\n",
       "    <tr style=\"text-align: right;\">\n",
       "      <th></th>\n",
       "      <th>mean</th>\n",
       "      <th>first_quarter</th>\n",
       "      <th>median</th>\n",
       "      <th>third_quarter</th>\n",
       "      <th>IQR</th>\n",
       "    </tr>\n",
       "    <tr>\n",
       "      <th>member_casual</th>\n",
       "      <th></th>\n",
       "      <th></th>\n",
       "      <th></th>\n",
       "      <th></th>\n",
       "      <th></th>\n",
       "    </tr>\n",
       "  </thead>\n",
       "  <tbody>\n",
       "    <tr>\n",
       "      <th>casual</th>\n",
       "      <td>29.117079</td>\n",
       "      <td>14.0</td>\n",
       "      <td>23.0</td>\n",
       "      <td>39.0</td>\n",
       "      <td>25.0</td>\n",
       "    </tr>\n",
       "    <tr>\n",
       "      <th>member</th>\n",
       "      <td>17.865891</td>\n",
       "      <td>9.0</td>\n",
       "      <td>15.0</td>\n",
       "      <td>24.0</td>\n",
       "      <td>15.0</td>\n",
       "    </tr>\n",
       "  </tbody>\n",
       "</table>\n",
       "</div>"
      ],
      "text/plain": [
       "                    mean  first_quarter  median  third_quarter   IQR\n",
       "member_casual                                                       \n",
       "casual         29.117079           14.0    23.0           39.0  25.0\n",
       "member         17.865891            9.0    15.0           24.0  15.0"
      ]
     },
     "execution_count": 6,
     "metadata": {},
     "output_type": "execute_result"
    }
   ],
   "source": [
    "reduced_data.groupby('member_casual')['ride_time'].agg(mean=np.mean,\n",
    "                                                       first_quarter=lambda x:x.quantile(0.25),\n",
    "                                                       median=np.median,\n",
    "                                                       third_quarter=lambda x:x.quantile(0.75),\n",
    "                                                       IQR=lambda x:x.quantile(0.75) - x.quantile(0.25))"
   ]
  },
  {
   "cell_type": "markdown",
   "id": "18348ba4",
   "metadata": {},
   "source": [
    "[Box Plot Viz](https://www.geeksforgeeks.org/box-plot-visualization-with-pandas-and-seaborn/)"
   ]
  },
  {
   "cell_type": "code",
   "execution_count": 7,
   "id": "66cdee4b",
   "metadata": {},
   "outputs": [
    {
     "data": {
      "image/png": "[encoded data removed]",
      "text/plain": [
       "<Figure size 720x576 with 1 Axes>"
      ]
     },
     "metadata": {},
     "output_type": "display_data"
    }
   ],
   "source": [
    "_ = mp.style.use(\"fivethirtyeight\")\n",
    "\n",
    "font = {'family' : 'cambria', 'size'   : 13}\n",
    "mp.rc('font', **font)\n",
    "\n",
    "props = dict(boxes=\"Red\", whiskers=\"DarkOrange\", medians=\"DarkBlue\", caps=\"Gray\")\n",
    "\n",
    "box = reduced_data.plot(kind='box', by='member_casual', column='ride_time', color = props, fontsize = 15, figsize=(10,8), patch_artist=True)\n",
    "_ = mp.ylabel('Ride Time')\n",
    "_ = mp.yticks(np.arange(0, 120, 10))\n",
    "_ = mp.title('Ride Time Distribution')"
   ]
  },
  {
   "cell_type": "markdown",
   "id": "5f96a96a",
   "metadata": {},
   "source": [
    "Casual Riders have more riding time as compared to the Members."
   ]
  },
  {
   "cell_type": "code",
   "execution_count": null,
   "id": "2a4e2b5e",
   "metadata": {},
   "outputs": [],
   "source": [
    "member_ride_time = reduced_data[]"
   ]
  },
  {
   "cell_type": "code",
   "execution_count": null,
   "id": "3ff1b6e1",
   "metadata": {},
   "outputs": [],
   "source": []
  },
  {
   "cell_type": "markdown",
   "id": "5fe03351",
   "metadata": {},
   "source": [
    "[Figure Size with Subplots](https://stackoverflow.com/questions/14770735/how-do-i-change-the-figure-size-with-subplots)\n",
    "\n",
    "[Xticks in Subplots](https://stackoverflow.com/questions/19626530/how-to-set-xticks-in-subplots)"
   ]
  },
  {
   "cell_type": "markdown",
   "id": "e2b00966",
   "metadata": {},
   "source": [
    "0 - Monday   ||    1 - Tuesday   ||    2 - Wednesday   ||    3 - Thursday   ||    4 - Friday   ||    5 - Saturday   ||    6 - Sunday"
   ]
  },
  {
   "cell_type": "code",
   "execution_count": 23,
   "id": "90fc8dd0",
   "metadata": {},
   "outputs": [
    {
     "data": {
      "text/plain": [
       "<Figure size 2160x2160 with 0 Axes>"
      ]
     },
     "metadata": {},
     "output_type": "display_data"
    },
    {
     "data": {
      "image/png": "[encoded data removed]",
      "text/plain": [
       "<Figure size 1080x576 with 2 Axes>"
      ]
     },
     "metadata": {},
     "output_type": "display_data"
    }
   ],
   "source": [
    "_ = mp.figure(figsize=(30,30))\n",
    "_ = mp.style.use(\"fivethirtyeight\")\n",
    "\n",
    "fig, (ax1, ax2) = mp.subplots(1, 2)\n",
    "fig.set_figheight(8)\n",
    "fig.set_figwidth(15)\n",
    "\n",
    "_ = reduced_data[reduced_data['member_casual'] == 'member'].plot(kind='box', by = 'weekday', column = 'ride_time', color=props, figsize=(10,15), ax=ax1, vert=False, patch_artist=True)\n",
    "_ = ax1.set_title('Member')\n",
    "_ = ax1.set_yticklabels(['Monday', 'Tuesday', 'Wednesday', 'Thursday', 'Friday', 'Saturday', 'Sunday'])\n",
    "\n",
    "_ = reduced_data[reduced_data['member_casual'] == 'casual'].plot(kind='box', by = 'weekday', column = 'ride_time', color=props, figsize=(10,15), ax=ax2, vert=False, patch_artist=True)\n",
    "_ = ax2.set_title('Casual')\n",
    "_ = ax2.set_yticklabels(['Monday', 'Tuesday', 'Wednesday', 'Thursday', 'Friday', 'Saturday', 'Sunday'])\n",
    "\n",
    "_ = mp.suptitle(\"Distribution of Ride Time by Type of Weekday\")\n"
   ]
  },
  {
   "cell_type": "markdown",
   "id": "0de55d52",
   "metadata": {},
   "source": [
    "There are more number of casual riders and their ride time has a bigger range as compared to the members throughout the week.\n",
    "\n",
    "The reason for this might be that the members are using it as a routine (mostly for work commute) while the casuals are using it for multiple reasons.\n",
    "\n"
   ]
  },
  {
   "cell_type": "code",
   "execution_count": null,
   "id": "24e9521d",
   "metadata": {},
   "outputs": [],
   "source": []
  },
  {
   "cell_type": "code",
   "execution_count": null,
   "id": "183ed15b",
   "metadata": {},
   "outputs": [],
   "source": []
  },
  {
   "cell_type": "code",
   "execution_count": null,
   "id": "60c18e0a",
   "metadata": {},
   "outputs": [],
   "source": []
  },
  {
   "cell_type": "code",
   "execution_count": null,
   "id": "6013fd2a",
   "metadata": {},
   "outputs": [],
   "source": []
  },
  {
   "cell_type": "code",
   "execution_count": 33,
   "id": "637c1466",
   "metadata": {},
   "outputs": [
    {
     "data": {
      "text/plain": [
       "<Figure size 2160x2160 with 0 Axes>"
      ]
     },
     "metadata": {},
     "output_type": "display_data"
    },
    {
     "data": {
      "image/png": "[encoded data removed]",
      "text/plain": [
       "<Figure size 1080x720 with 2 Axes>"
      ]
     },
     "metadata": {},
     "output_type": "display_data"
    }
   ],
   "source": [
    "_ = mp.figure(figsize=(30,30))\n",
    "_ = mp.style.use(\"fivethirtyeight\")\n",
    "\n",
    "fig, (ax1, ax2) = mp.subplots(1, 2)\n",
    "fig.set_figheight(10)\n",
    "fig.set_figwidth(15)\n",
    "\n",
    "bike_types = list(reduced_data['rideable_type'].unique())\n",
    "\n",
    "_ = reduced_data[reduced_data['member_casual'] == 'member'].plot(kind='box', by = 'rideable_type', column = 'ride_time', color=props, figsize=(10,15), ax=ax1, patch_artist=True)\n",
    "_ = ax1.set_title('Member')\n",
    "_ = ax1.set_xticklabels(bike_types)\n",
    "\n",
    "_ = reduced_data[reduced_data['member_casual'] == 'casual'].plot(kind='box', by = 'rideable_type', column = 'ride_time', color=props, figsize=(10,15), ax=ax2, patch_artist=True)\n",
    "_ = ax2.set_title('Casual')\n",
    "_ = ax2.set_xticklabels(bike_types)\n",
    "\n",
    "_ = mp.suptitle(\"Distribution of Ride Time by Type of Bikes\")\n"
   ]
  },
  {
   "cell_type": "code",
   "execution_count": null,
   "id": "e0e7bad0",
   "metadata": {},
   "outputs": [],
   "source": []
  },
  {
   "cell_type": "code",
   "execution_count": null,
   "id": "851be457",
   "metadata": {},
   "outputs": [],
   "source": []
  },
  {
   "cell_type": "code",
   "execution_count": null,
   "id": "2570e030",
   "metadata": {},
   "outputs": [],
   "source": []
  },
  {
   "cell_type": "code",
   "execution_count": null,
   "id": "832927c6",
   "metadata": {},
   "outputs": [],
   "source": []
  },
  {
   "cell_type": "code",
   "execution_count": 52,
   "id": "06d19bc0",
   "metadata": {
    "scrolled": true
   },
   "outputs": [
    {
     "data": {
      "text/html": [
       "<div>\n",
       "<style scoped>\n",
       "    .dataframe tbody tr th:only-of-type {\n",
       "        vertical-align: middle;\n",
       "    }\n",
       "\n",
       "    .dataframe tbody tr th {\n",
       "        vertical-align: top;\n",
       "    }\n",
       "\n",
       "    .dataframe thead th {\n",
       "        text-align: right;\n",
       "    }\n",
       "</style>\n",
       "<table border=\"1\" class=\"dataframe\">\n",
       "  <thead>\n",
       "    <tr style=\"text-align: right;\">\n",
       "      <th></th>\n",
       "      <th>ride_id</th>\n",
       "      <th>rideable_type</th>\n",
       "      <th>started_at</th>\n",
       "      <th>ended_at</th>\n",
       "      <th>start_station_name</th>\n",
       "      <th>start_station_id</th>\n",
       "      <th>end_station_name</th>\n",
       "      <th>end_station_id</th>\n",
       "      <th>start_lat</th>\n",
       "      <th>start_lng</th>\n",
       "      <th>end_lat</th>\n",
       "      <th>end_lng</th>\n",
       "      <th>member_casual</th>\n",
       "      <th>ride_time</th>\n",
       "      <th>year_month</th>\n",
       "      <th>weekday</th>\n",
       "      <th>start_hour</th>\n",
       "    </tr>\n",
       "  </thead>\n",
       "  <tbody>\n",
       "    <tr>\n",
       "      <th>0</th>\n",
       "      <td>A847FADBBC638E45</td>\n",
       "      <td>docked_bike</td>\n",
       "      <td>2020-04-26 17:45:14</td>\n",
       "      <td>2020-04-26 18:12:03</td>\n",
       "      <td>Eckhart Park</td>\n",
       "      <td>86.0</td>\n",
       "      <td>Lincoln Ave &amp; Diversey Pkwy</td>\n",
       "      <td>152.0</td>\n",
       "      <td>41.8964</td>\n",
       "      <td>-87.6610</td>\n",
       "      <td>41.9322</td>\n",
       "      <td>-87.6586</td>\n",
       "      <td>member</td>\n",
       "      <td>27.0</td>\n",
       "      <td>2020 - 4</td>\n",
       "      <td>6</td>\n",
       "      <td>17</td>\n",
       "    </tr>\n",
       "    <tr>\n",
       "      <th>1</th>\n",
       "      <td>5405B80E996FF60D</td>\n",
       "      <td>docked_bike</td>\n",
       "      <td>2020-04-17 17:08:54</td>\n",
       "      <td>2020-04-17 17:17:03</td>\n",
       "      <td>Drake Ave &amp; Fullerton Ave</td>\n",
       "      <td>503.0</td>\n",
       "      <td>Kosciuszko Park</td>\n",
       "      <td>499.0</td>\n",
       "      <td>41.9244</td>\n",
       "      <td>-87.7154</td>\n",
       "      <td>41.9306</td>\n",
       "      <td>-87.7238</td>\n",
       "      <td>member</td>\n",
       "      <td>8.0</td>\n",
       "      <td>2020 - 4</td>\n",
       "      <td>4</td>\n",
       "      <td>17</td>\n",
       "    </tr>\n",
       "    <tr>\n",
       "      <th>2</th>\n",
       "      <td>5DD24A79A4E006F4</td>\n",
       "      <td>docked_bike</td>\n",
       "      <td>2020-04-01 17:54:13</td>\n",
       "      <td>2020-04-01 18:08:36</td>\n",
       "      <td>McClurg Ct &amp; Erie St</td>\n",
       "      <td>142.0</td>\n",
       "      <td>Indiana Ave &amp; Roosevelt Rd</td>\n",
       "      <td>255.0</td>\n",
       "      <td>41.8945</td>\n",
       "      <td>-87.6179</td>\n",
       "      <td>41.8679</td>\n",
       "      <td>-87.6230</td>\n",
       "      <td>member</td>\n",
       "      <td>14.0</td>\n",
       "      <td>2020 - 4</td>\n",
       "      <td>2</td>\n",
       "      <td>17</td>\n",
       "    </tr>\n",
       "    <tr>\n",
       "      <th>3</th>\n",
       "      <td>2A59BBDF5CDBA725</td>\n",
       "      <td>docked_bike</td>\n",
       "      <td>2020-04-07 12:50:19</td>\n",
       "      <td>2020-04-07 13:02:31</td>\n",
       "      <td>California Ave &amp; Division St</td>\n",
       "      <td>216.0</td>\n",
       "      <td>Wood St &amp; Augusta Blvd</td>\n",
       "      <td>657.0</td>\n",
       "      <td>41.9030</td>\n",
       "      <td>-87.6975</td>\n",
       "      <td>41.8992</td>\n",
       "      <td>-87.6722</td>\n",
       "      <td>member</td>\n",
       "      <td>12.0</td>\n",
       "      <td>2020 - 4</td>\n",
       "      <td>1</td>\n",
       "      <td>12</td>\n",
       "    </tr>\n",
       "    <tr>\n",
       "      <th>4</th>\n",
       "      <td>27AD306C119C6158</td>\n",
       "      <td>docked_bike</td>\n",
       "      <td>2020-04-18 10:22:59</td>\n",
       "      <td>2020-04-18 11:15:54</td>\n",
       "      <td>Rush St &amp; Hubbard St</td>\n",
       "      <td>125.0</td>\n",
       "      <td>Sheridan Rd &amp; Lawrence Ave</td>\n",
       "      <td>323.0</td>\n",
       "      <td>41.8902</td>\n",
       "      <td>-87.6262</td>\n",
       "      <td>41.9695</td>\n",
       "      <td>-87.6547</td>\n",
       "      <td>casual</td>\n",
       "      <td>53.0</td>\n",
       "      <td>2020 - 4</td>\n",
       "      <td>5</td>\n",
       "      <td>10</td>\n",
       "    </tr>\n",
       "  </tbody>\n",
       "</table>\n",
       "</div>"
      ],
      "text/plain": [
       "            ride_id rideable_type           started_at             ended_at  \\\n",
       "0  A847FADBBC638E45   docked_bike  2020-04-26 17:45:14  2020-04-26 18:12:03   \n",
       "1  5405B80E996FF60D   docked_bike  2020-04-17 17:08:54  2020-04-17 17:17:03   \n",
       "2  5DD24A79A4E006F4   docked_bike  2020-04-01 17:54:13  2020-04-01 18:08:36   \n",
       "3  2A59BBDF5CDBA725   docked_bike  2020-04-07 12:50:19  2020-04-07 13:02:31   \n",
       "4  27AD306C119C6158   docked_bike  2020-04-18 10:22:59  2020-04-18 11:15:54   \n",
       "\n",
       "             start_station_name  start_station_id  \\\n",
       "0                  Eckhart Park              86.0   \n",
       "1     Drake Ave & Fullerton Ave             503.0   \n",
       "2          McClurg Ct & Erie St             142.0   \n",
       "3  California Ave & Division St             216.0   \n",
       "4          Rush St & Hubbard St             125.0   \n",
       "\n",
       "              end_station_name  end_station_id  start_lat  start_lng  end_lat  \\\n",
       "0  Lincoln Ave & Diversey Pkwy           152.0    41.8964   -87.6610  41.9322   \n",
       "1              Kosciuszko Park           499.0    41.9244   -87.7154  41.9306   \n",
       "2   Indiana Ave & Roosevelt Rd           255.0    41.8945   -87.6179  41.8679   \n",
       "3       Wood St & Augusta Blvd           657.0    41.9030   -87.6975  41.8992   \n",
       "4   Sheridan Rd & Lawrence Ave           323.0    41.8902   -87.6262  41.9695   \n",
       "\n",
       "   end_lng member_casual  ride_time year_month  weekday  start_hour  \n",
       "0 -87.6586        member       27.0   2020 - 4        6          17  \n",
       "1 -87.7238        member        8.0   2020 - 4        4          17  \n",
       "2 -87.6230        member       14.0   2020 - 4        2          17  \n",
       "3 -87.6722        member       12.0   2020 - 4        1          12  \n",
       "4 -87.6547        casual       53.0   2020 - 4        5          10  "
      ]
     },
     "execution_count": 52,
     "metadata": {},
     "output_type": "execute_result"
    }
   ],
   "source": [
    "data.head()"
   ]
  },
  {
   "cell_type": "code",
   "execution_count": null,
   "id": "6b45a483",
   "metadata": {},
   "outputs": [],
   "source": []
  }
 ],
 "metadata": {
  "kernelspec": {
   "display_name": "Python 3 (ipykernel)",
   "language": "python",
   "name": "python3"
  },
  "language_info": {
   "codemirror_mode": {
    "name": "ipython",
    "version": 3
   },
   "file_extension": ".py",
   "mimetype": "text/x-python",
   "name": "python",
   "nbconvert_exporter": "python",
   "pygments_lexer": "ipython3",
   "version": "3.10.4"
  }
 },
 "nbformat": 4,
 "nbformat_minor": 5
}
